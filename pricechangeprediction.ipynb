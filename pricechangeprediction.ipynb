{
 "cells": [
  {
   "cell_type": "code",
   "execution_count": 1,
   "metadata": {},
   "outputs": [
    {
     "name": "stderr",
     "output_type": "stream",
     "text": [
      "C:\\ProgramData\\Anaconda3\\lib\\site-packages\\h5py\\__init__.py:36: FutureWarning: Conversion of the second argument of issubdtype from `float` to `np.floating` is deprecated. In future, it will be treated as `np.float64 == np.dtype(float).type`.\n",
      "  from ._conv import register_converters as _register_converters\n",
      "Using TensorFlow backend.\n"
     ]
    }
   ],
   "source": [
    "from keras.models import Sequential\n",
    "from keras.layers.core import Dense, Activation\n",
    "from keras.layers import Dropout\n",
    "from keras.wrappers.scikit_learn import KerasRegressor\n",
    "from keras.optimizers import SGD\n",
    "import numpy as np\n",
    "import pandas as pd\n",
    "import seaborn as sns\n",
    "import matplotlib.pyplot as plt"
   ]
  },
  {
   "cell_type": "code",
   "execution_count": 7,
   "metadata": {},
   "outputs": [
    {
     "name": "stdout",
     "output_type": "stream",
     "text": [
      "(1745, 1)\n"
     ]
    }
   ],
   "source": [
    "# Trying to convert the input data, which starts off as dataframeX, must take 5 days and then transpose it\n",
    "# and then convert it into a numpy array\n",
    "\n",
    "rawdata = pd.read_csv('data/bitcoin.csv',usecols=[8])\n",
    "days = 5                                                      # Number of days we are looking at\n",
    "predict_delta = 7                                             # Number of days we are predicting into the future \n",
    "number_of_items = rawdata.shape[0] - (predict_delta + days)   # number of tests\n",
    "print(rawdata.shape)\n",
    "\n",
    "X = []                                                        # five day blocks in a list\n",
    "# For every index in x, there is a y that holds the actual \n",
    "# value that we are trying to predict (seven days into the future)\n",
    "Y = []\n",
    "\n",
    "# Splits the array of closing prices up into multiple arrays, each holding five days worth of prices\n",
    "# then transposes each array and finally appends them onto one large matrix\n",
    "for i in range(number_of_items):\n",
    "    X.append(rawdata.head(days + i).tail(days).as_matrix().transpose().tolist()[0])\n",
    "    predict_day = rawdata.head(days + i + predict_delta).tail(1).as_matrix().transpose().tolist()[0][0]\n",
    "    #change = (predict_day - X[i][4])/predict_day\n",
    "    Y.append((predict_day - X[i][4])/predict_day)\n",
    "    #if change >= .03:\n",
    "        #Y.append(np.array([[1,0,0]]))\n",
    "    #elif change < .03 and change > -.03:\n",
    "        #Y.append(np.array([[0,1,0]]))\n",
    "    #else:\n",
    "        #Y.append(np.array([[0,0,1]]))\n",
    "# converts python arrays into numpy arrays\n",
    "X = np.array(X)\n",
    "Y = np.array(Y)\n"
   ]
  },
  {
   "cell_type": "code",
   "execution_count": 14,
   "metadata": {},
   "outputs": [
    {
     "name": "stdout",
     "output_type": "stream",
     "text": [
      "Epoch 1/5\n",
      "1733/1733 [==============================] - 0s 163us/step - loss: 0.1779 - acc: 5.7703e-04\n",
      "Epoch 2/5\n",
      "1733/1733 [==============================] - 0s 82us/step - loss: 0.1779 - acc: 5.7703e-04\n",
      "Epoch 3/5\n",
      "1733/1733 [==============================] - 0s 81us/step - loss: 0.1779 - acc: 5.7703e-04\n",
      "Epoch 4/5\n",
      "1733/1733 [==============================] - 0s 88us/step - loss: 0.1779 - acc: 5.7703e-04\n",
      "Epoch 5/5\n",
      "1733/1733 [==============================] - 0s 80us/step - loss: 0.1779 - acc: 5.7703e-04\n"
     ]
    }
   ],
   "source": [
    "model = Sequential()\n",
    "model.add(Dense(1,input_shape=(5,)))\n",
    "model.add(Activation('relu'))\n",
    "model.add(Dense(1, activation='tanh'))\n",
    "model.add(Dropout(2.0))\n",
    "\n",
    "model.compile(loss='binary_crossentropy',optimizer='rmsprop', metrics=['accuracy'])\n",
    "\n",
    "H = model.fit(X, Y, epochs=5)"
   ]
  },
  {
   "cell_type": "code",
   "execution_count": 12,
   "metadata": {},
   "outputs": [
    {
     "name": "stdout",
     "output_type": "stream",
     "text": [
      "it will stay between 3%\n",
      "0.0\n"
     ]
    }
   ],
   "source": [
    "XVal = np.array([[8070.8, 8891.21, 8516.24, 9477.84, 10016.49]])\n",
    "result = model.predict(XVal)\n",
    "result = result[0][0]\n",
    "\n",
    "if result >= 1 - 2/3:\n",
    "    print(\"it will go up by 3%\")\n",
    "elif result > 0 - 2/3 and result < 1 - 2/3:\n",
    "    print(\"it will stay between 3%\")\n",
    "else:\n",
    "    print(\"it will go down by 3%\")\n",
    "\n",
    "print(result)"
   ]
  },
  {
   "cell_type": "code",
   "execution_count": null,
   "metadata": {},
   "outputs": [],
   "source": []
  }
 ],
 "metadata": {
  "kernelspec": {
   "display_name": "Python 3",
   "language": "python",
   "name": "python3"
  },
  "language_info": {
   "codemirror_mode": {
    "name": "ipython",
    "version": 3
   },
   "file_extension": ".py",
   "mimetype": "text/x-python",
   "name": "python",
   "nbconvert_exporter": "python",
   "pygments_lexer": "ipython3",
   "version": "3.6.4"
  }
 },
 "nbformat": 4,
 "nbformat_minor": 2
}
