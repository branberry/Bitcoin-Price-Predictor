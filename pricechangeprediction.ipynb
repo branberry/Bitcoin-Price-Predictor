{
 "cells": [
  {
   "cell_type": "code",
   "execution_count": 1,
   "metadata": {},
   "outputs": [
    {
     "name": "stderr",
     "output_type": "stream",
     "text": [
      "Using TensorFlow backend.\n"
     ]
    }
   ],
   "source": [
    "from keras.models import Sequential\n",
    "from keras.layers.core import Dense, Activation\n",
    "from keras.layers import Dropout, Flatten\n",
    "from keras.wrappers.scikit_learn import KerasRegressor\n",
    "from keras.optimizers import SGD\n",
    "import numpy as np\n",
    "import pandas as pd\n",
    "import seaborn as sns\n",
    "import matplotlib.pyplot as plt"
   ]
  },
  {
   "cell_type": "code",
   "execution_count": 84,
   "metadata": {},
   "outputs": [],
   "source": [
    "#  This function finds the percentage of each value compared to the previous one\n",
    "#  For the first value, since there is not a previous one, I find the difference between the first element and the second one\n",
    "def AvgPrevious(nparray):\n",
    "    for i in range(len(nparray)):\n",
    "        if i > 0:\n",
    "            nparray[i] = (nparray[i] - nparray[i - 1])/nparray[i]\n",
    "        else:\n",
    "            nparray[i] = (nparray[i] - nparray[i + 1])/nparray[i]\n",
    "    return nparray"
   ]
  },
  {
   "cell_type": "code",
   "execution_count": 124,
   "metadata": {},
   "outputs": [
    {
     "name": "stdout",
     "output_type": "stream",
     "text": [
      "(1745, 1)\n",
      "[-0.07696892928991866, 1.0005325095426174, 0.9928019243917798, 0.9915137881494847, 0.9905758598217899]\n"
     ]
    }
   ],
   "source": [
    "# Trying to convert the input data, which starts off as dataframeX, must take 5 days and then transpose it\n",
    "# and then convert it into a numpy array\n",
    "\n",
    "rawdata = pd.read_csv('data/bitcoin.csv',usecols=[8])\n",
    "days = 5                                                      # Number of days we are looking at\n",
    "predict_delta = 7                                             # Number of days we are predicting into the future \n",
    "number_of_items = rawdata.shape[0] - (predict_delta + days)   # number of tests\n",
    "print(rawdata.shape)\n",
    "\n",
    "X = []                                                        # five day blocks in a list\n",
    "# For every index in x, there is a y that holds the actual \n",
    "# value that we are trying to predict (seven days into the future)\n",
    "Y = []\n",
    "#Y = rawdata.tail(number_of_items).as_matrix().tolist()\n",
    "\n",
    "# Splits the array of closing prices up into multiple arrays, each holding five days worth of prices\n",
    "# then transposes each array and finally appends them onto one large matrix\n",
    "for i in range(number_of_items - 1000): \n",
    "    predict_day = rawdata.head(days + i + predict_delta).tail(1).as_matrix().transpose().tolist()[0][0]\n",
    "    last_day = rawdata.head(days + i).tail(1).as_matrix().transpose().tolist()[0]\n",
    "    \n",
    "    # Adding data to arrays\n",
    "    X.append(AvgPrevious(rawdata.head(days).tail(days).as_matrix().transpose().tolist()[0]))\n",
    "    Y.append((predict_day - last_day[0])/predict_day)\n",
    "\n",
    "# converts python arrays into numpy arrays\n",
    "X = np.array(X)\n",
    "Y = np.array(Y)\n",
    "\n",
    "test = AvgPrevious(rawdata.head(days).tail(days).as_matrix().transpose().tolist()[0])\n",
    "print(test)\n",
    "\n"
   ]
  },
  {
   "cell_type": "code",
   "execution_count": 125,
   "metadata": {},
   "outputs": [
    {
     "name": "stdout",
     "output_type": "stream",
     "text": [
      "Epoch 1/10\n",
      "733/733 [==============================] - 1s 2ms/step - loss: 0.0180 - acc: 0.0014\n",
      "Epoch 2/10\n",
      "733/733 [==============================] - 0s 101us/step - loss: 0.0179 - acc: 0.0014\n",
      "Epoch 3/10\n",
      "733/733 [==============================] - 0s 98us/step - loss: 0.0180 - acc: 0.0014\n",
      "Epoch 4/10\n",
      "733/733 [==============================] - 0s 127us/step - loss: 0.0180 - acc: 0.0014\n",
      "Epoch 5/10\n",
      "733/733 [==============================] - 0s 105us/step - loss: 0.0180 - acc: 0.0014\n",
      "Epoch 6/10\n",
      "733/733 [==============================] - 0s 113us/step - loss: 0.0180 - acc: 0.0014\n",
      "Epoch 7/10\n",
      "733/733 [==============================] - 0s 123us/step - loss: 0.0180 - acc: 0.0014\n",
      "Epoch 8/10\n",
      "733/733 [==============================] - 0s 100us/step - loss: 0.0180 - acc: 0.0014\n",
      "Epoch 9/10\n",
      "733/733 [==============================] - 0s 102us/step - loss: 0.0180 - acc: 0.0014\n",
      "Epoch 10/10\n",
      "733/733 [==============================] - 0s 104us/step - loss: 0.0180 - acc: 0.0014ETA: 0s - loss: 0.0179 - acc: 0.0017   \n"
     ]
    }
   ],
   "source": [
    "model = Sequential()\n",
    "model.add(Dense(1,input_shape=(5,)))\n",
    "model.add(Activation('relu'))\n",
    "model.add(Dense(1, activation='tanh'))\n",
    "model.add(Dropout(1.0))\n",
    "\n",
    "sgd = SGD(lr=0.000001)\n",
    "\n",
    "model.compile(loss='mse',optimizer='rmsprop', metrics=['accuracy'])\n",
    "\n",
    "H = model.fit(X, Y, epochs=10)"
   ]
  },
  {
   "cell_type": "code",
   "execution_count": 127,
   "metadata": {},
   "outputs": [
    {
     "name": "stdout",
     "output_type": "stream",
     "text": [
      "it will go up by 3%\n",
      "1.0\n"
     ]
    }
   ],
   "source": [
    "Test = AvgPrevious([8070.8, 8891.21, 8516.24, 9477.84, 10016.49])\n",
    "XVal = np.array([Test])\n",
    "r = model.predict(XVal)\n",
    "result = r[0][0]\n",
    "\n",
    "if result >= 1 - 2/3:\n",
    "    print(\"it will go up by 3%\")\n",
    "elif result > 0 - 2/3 and result < 1 - 2/3:\n",
    "    print(\"it will stay between 3%\")\n",
    "else:\n",
    "    print(\"it will go down by 3%\")\n",
    "\n",
    "print(result)"
   ]
  },
  {
   "cell_type": "code",
   "execution_count": 122,
   "metadata": {},
   "outputs": [
    {
     "name": "stdout",
     "output_type": "stream",
     "text": [
      "_________________________________________________________________\n",
      "Layer (type)                 Output Shape              Param #   \n",
      "=================================================================\n",
      "dense_105 (Dense)            (None, 1)                 6         \n",
      "_________________________________________________________________\n",
      "activation_61 (Activation)   (None, 1)                 0         \n",
      "_________________________________________________________________\n",
      "dense_106 (Dense)            (None, 1)                 2         \n",
      "_________________________________________________________________\n",
      "dropout_55 (Dropout)         (None, 1)                 0         \n",
      "=================================================================\n",
      "Total params: 8\n",
      "Trainable params: 8\n",
      "Non-trainable params: 0\n",
      "_________________________________________________________________\n"
     ]
    }
   ],
   "source": [
    "model.summary()"
   ]
  },
  {
   "cell_type": "code",
   "execution_count": null,
   "metadata": {},
   "outputs": [],
   "source": []
  }
 ],
 "metadata": {
  "kernelspec": {
   "display_name": "Python 3",
   "language": "python",
   "name": "python3"
  },
  "language_info": {
   "codemirror_mode": {
    "name": "ipython",
    "version": 3
   },
   "file_extension": ".py",
   "mimetype": "text/x-python",
   "name": "python",
   "nbconvert_exporter": "python",
   "pygments_lexer": "ipython3",
   "version": "3.6.4"
  }
 },
 "nbformat": 4,
 "nbformat_minor": 2
}
