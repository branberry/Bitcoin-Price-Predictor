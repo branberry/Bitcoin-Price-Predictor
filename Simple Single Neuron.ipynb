{
 "cells": [
  {
   "cell_type": "code",
   "execution_count": 1,
   "metadata": {},
   "outputs": [
    {
     "name": "stderr",
     "output_type": "stream",
     "text": [
      "b:\\anaconda3\\envs\\tensorflow\\lib\\site-packages\\h5py\\__init__.py:36: FutureWarning: Conversion of the second argument of issubdtype from `float` to `np.floating` is deprecated. In future, it will be treated as `np.float64 == np.dtype(float).type`.\n",
      "  from ._conv import register_converters as _register_converters\n",
      "Using TensorFlow backend.\n"
     ]
    }
   ],
   "source": [
    "from keras.models import Sequential\n",
    "from keras.layers.core import Dense, Activation\n",
    "from keras.layers import Dropout\n",
    "from keras.wrappers.scikit_learn import KerasRegressor\n",
    "from keras.optimizers import SGD\n",
    "import numpy as np\n",
    "import pandas as pd\n",
    "import seaborn as sns\n",
    "import matplotlib.pyplot as plt"
   ]
  },
  {
   "cell_type": "code",
   "execution_count": 17,
   "metadata": {},
   "outputs": [
    {
     "name": "stdout",
     "output_type": "stream",
     "text": [
      "(1745, 1)\n",
      "(1533,)\n"
     ]
    }
   ],
   "source": [
    "# Trying to convert the input data, which starts off as dataframeX, must take 5 days and then transpose it\n",
    "# and then convert it into a numpy array\n",
    "\n",
    "rawdata = pd.read_csv('data/bitcoin.csv',usecols=[8])\n",
    "days = 5                                                      # Number of days we are looking at\n",
    "predict_delta = 7                                             # Number of days we are predicting into the future \n",
    "number_of_items = rawdata.shape[0] - (predict_delta + days)    # number of tests\n",
    "test_size = number_of_items - 200\n",
    "\n",
    "Xtrain = []                                                        # five day blocks in a list\n",
    "# For every index in x, there is a y that holds the actual \n",
    "# value that we are trying to predict (seven days into the future)\n",
    "Ytrain = []                                                  \n",
    "\n",
    "# Splits the array of closing prices up into multiple arrays, each holding five days worth of prices\n",
    "# then transposes each array and finally appends them onto one large matrix\n",
    "for i in range(test_size):\n",
    "    Xtrain.append(rawdata.head(days + i).tail(days).as_matrix().transpose().tolist()[0])\n",
    "    Ytrain.append(rawdata.head(days + i + predict_delta).tail(1).as_matrix().transpose().tolist()[0][0])\n",
    "\n",
    "# converts python arrays into numpy arrays\n",
    "Xtrain = np.array(Xtrain)\n",
    "Ytrain = np.array(Ytrain)"
   ]
  },
  {
   "cell_type": "code",
   "execution_count": 18,
   "metadata": {},
   "outputs": [
    {
     "name": "stdout",
     "output_type": "stream",
     "text": [
      "(1745, 1)\n"
     ]
    }
   ],
   "source": [
    "# Trying to convert the input data, which starts off as dataframeX, must take 5 days and then transpose it\n",
    "# and then convert it into a numpy array\n",
    "# This is now for the evaluation data\n",
    "\n",
    "rawdata = pd.read_csv('data/bitcoin.csv',usecols=[8])\n",
    "days = 5                                                      # Number of days we are looking at\n",
    "predict_delta = 7                                             # Number of days we are predicting into the future \n",
    "number_of_items = rawdata.shape[0] - (predict_delta + days)   # number of tests\n",
    "\n",
    "XEvaluation = []                                                        # five day blocks in a list\n",
    "# For every index in x, there is a y that holds the actual \n",
    "# value that we are trying to predict (seven days into the future)\n",
    "YEvaluation = []                                                  \n",
    "\n",
    "# Splits the array of closing prices up into multiple arrays, each holding five days worth of prices\n",
    "# then transposes each array and finally appends them onto one large matrix\n",
    "for i in range(200):\n",
    "    XEvaluation.append(rawdata.head(days + i + test_size).tail(days).as_matrix().transpose().tolist()[0])\n",
    "    YEvaluation.append(rawdata.head(days + i + predict_delta + test_size).tail(1).as_matrix().transpose().tolist()[0][0])\n",
    "\n",
    "# converts python arrays into numpy arrays\n",
    "XEvaluation = np.array(XEvaluation)\n",
    "YEvaluation = np.array(YEvaluation)"
   ]
  },
  {
   "cell_type": "code",
   "execution_count": 3,
   "metadata": {
    "scrolled": true
   },
   "outputs": [
    {
     "data": {
      "image/png": "[encoded data removed]",
      "text/plain": [
       "<matplotlib.figure.Figure at 0x29a3a815518>"
      ]
     },
     "metadata": {},
     "output_type": "display_data"
    }
   ],
   "source": [
    "sns.lmplot('index','close', data=rawdata.reset_index(),fit_reg=False)\n",
    "plt.show()"
   ]
  },
  {
   "cell_type": "code",
   "execution_count": 35,
   "metadata": {
    "scrolled": true
   },
   "outputs": [
    {
     "name": "stdout",
     "output_type": "stream",
     "text": [
      "Epoch 1/10\n",
      "1533/1533 [==============================] - 0s 231us/step - loss: 0.0507 - mean_squared_logarithmic_error: 0.0507\n",
      "Epoch 2/10\n",
      "1533/1533 [==============================] - 0s 76us/step - loss: 0.0136 - mean_squared_logarithmic_error: 0.0136\n",
      "Epoch 3/10\n",
      "1533/1533 [==============================] - 0s 79us/step - loss: 0.0136 - mean_squared_logarithmic_error: 0.0136\n",
      "Epoch 4/10\n",
      "1533/1533 [==============================] - 0s 81us/step - loss: 0.0135 - mean_squared_logarithmic_error: 0.0135\n",
      "Epoch 5/10\n",
      "1533/1533 [==============================] - 0s 80us/step - loss: 0.0135 - mean_squared_logarithmic_error: 0.0135\n",
      "Epoch 6/10\n",
      "1533/1533 [==============================] - 0s 98us/step - loss: 0.0136 - mean_squared_logarithmic_error: 0.0136\n",
      "Epoch 7/10\n",
      "1533/1533 [==============================] - 0s 126us/step - loss: 0.0136 - mean_squared_logarithmic_error: 0.0136\n",
      "Epoch 8/10\n",
      "1533/1533 [==============================] - 0s 92us/step - loss: 0.0135 - mean_squared_logarithmic_error: 0.0135\n",
      "Epoch 9/10\n",
      "1533/1533 [==============================] - 0s 91us/step - loss: 0.0136 - mean_squared_logarithmic_error: 0.0136\n",
      "Epoch 10/10\n",
      "1533/1533 [==============================] - 0s 88us/step - loss: 0.0135 - mean_squared_logarithmic_error: 0.0135\n"
     ]
    }
   ],
   "source": [
    "# ReLU and SGD\n",
    "model1 = Sequential()\n",
    "model1.add(Dense(1,input_shape=(5,)))\n",
    "model1.add(Activation('relu'))\n",
    "model1.add(Dropout(1.0))\n",
    "\n",
    "sgd = SGD(0.01)\n",
    "\n",
    "model1.compile(loss='msle',optimizer=sgd, metrics=['msle'])\n",
    "\n",
    "H1 = model1.fit(Xtrain, Ytrain, epochs=10)"
   ]
  },
  {
   "cell_type": "code",
   "execution_count": 36,
   "metadata": {},
   "outputs": [
    {
     "name": "stdout",
     "output_type": "stream",
     "text": [
      "Epoch 1/10\n",
      "1533/1533 [==============================] - 0s 246us/step - loss: 0.0686 - mean_squared_logarithmic_error: 0.0686\n",
      "Epoch 2/10\n",
      "1533/1533 [==============================] - 0s 86us/step - loss: 0.0186 - mean_squared_logarithmic_error: 0.0186\n",
      "Epoch 3/10\n",
      "1533/1533 [==============================] - 0s 86us/step - loss: 0.0163 - mean_squared_logarithmic_error: 0.0163\n",
      "Epoch 4/10\n",
      "1533/1533 [==============================] - 0s 85us/step - loss: 0.0163 - mean_squared_logarithmic_error: 0.0163\n",
      "Epoch 5/10\n",
      "1533/1533 [==============================] - 0s 94us/step - loss: 0.0162 - mean_squared_logarithmic_error: 0.0162\n",
      "Epoch 6/10\n",
      "1533/1533 [==============================] - 0s 89us/step - loss: 0.0162 - mean_squared_logarithmic_error: 0.0162\n",
      "Epoch 7/10\n",
      "1533/1533 [==============================] - 0s 122us/step - loss: 0.0161 - mean_squared_logarithmic_error: 0.0161\n",
      "Epoch 8/10\n",
      "1533/1533 [==============================] - 0s 105us/step - loss: 0.0161 - mean_squared_logarithmic_error: 0.0161\n",
      "Epoch 9/10\n",
      "1533/1533 [==============================] - 0s 92us/step - loss: 0.0161 - mean_squared_logarithmic_error: 0.0161\n",
      "Epoch 10/10\n",
      "1533/1533 [==============================] - 0s 105us/step - loss: 0.0160 - mean_squared_logarithmic_error: 0.0160\n"
     ]
    }
   ],
   "source": [
    "# ReLU and RMSPROP\n",
    "model2 = Sequential()\n",
    "model2.add(Dense(1,input_shape=(5,)))\n",
    "model2.add(Activation('relu'))\n",
    "model2.add(Dropout(1.0))\n",
    "\n",
    "model2.compile(loss='msle',optimizer='rmsprop', metrics=['msle'])\n",
    "\n",
    "H2 = model2.fit(Xtrain, Ytrain, epochs=10)"
   ]
  },
  {
   "cell_type": "code",
   "execution_count": 39,
   "metadata": {},
   "outputs": [
    {
     "name": "stdout",
     "output_type": "stream",
     "text": [
      "Epoch 1/10\n",
      "1533/1533 [==============================] - 1s 334us/step - loss: 0.3958 - mean_squared_logarithmic_error: 0.3958\n",
      "Epoch 2/10\n",
      "1533/1533 [==============================] - 0s 96us/step - loss: 0.2500 - mean_squared_logarithmic_error: 0.2500\n",
      "Epoch 3/10\n",
      "1533/1533 [==============================] - 0s 101us/step - loss: 0.1339 - mean_squared_logarithmic_error: 0.1339\n",
      "Epoch 4/10\n",
      "1533/1533 [==============================] - 0s 107us/step - loss: 0.0587 - mean_squared_logarithmic_error: 0.0587\n",
      "Epoch 5/10\n",
      "1533/1533 [==============================] - 0s 128us/step - loss: 0.0240 - mean_squared_logarithmic_error: 0.0240\n",
      "Epoch 6/10\n",
      "1533/1533 [==============================] - 0s 142us/step - loss: 0.0147 - mean_squared_logarithmic_error: 0.0147\n",
      "Epoch 7/10\n",
      "1533/1533 [==============================] - 0s 110us/step - loss: 0.0135 - mean_squared_logarithmic_error: 0.0135\n",
      "Epoch 8/10\n",
      "1533/1533 [==============================] - 0s 103us/step - loss: 0.0133 - mean_squared_logarithmic_error: 0.0133\n",
      "Epoch 9/10\n",
      "1533/1533 [==============================] - 0s 106us/step - loss: 0.0133 - mean_squared_logarithmic_error: 0.0133\n",
      "Epoch 10/10\n",
      "1533/1533 [==============================] - 0s 101us/step - loss: 0.0133 - mean_squared_logarithmic_error: 0.0133\n"
     ]
    }
   ],
   "source": [
    "# ReLU and Adam\n",
    "model3 = Sequential()\n",
    "model3.add(Dense(1,input_shape=(5,)))\n",
    "model3.add(Activation('relu'))\n",
    "model3.add(Dropout(1.0))\n",
    "\n",
    "model3.compile(loss='msle',optimizer='adam', metrics=['msle'])\n",
    "\n",
    "H3 = model3.fit(Xtrain, Ytrain, epochs=10)"
   ]
  },
  {
   "cell_type": "code",
   "execution_count": 34,
   "metadata": {},
   "outputs": [
    {
     "name": "stdout",
     "output_type": "stream",
     "text": [
      "[[ 8070.8   8891.21  8516.24  9477.84 10016.49]]\n"
     ]
    },
    {
     "data": {
      "text/plain": [
       "array([[11433.922]], dtype=float32)"
      ]
     },
     "execution_count": 34,
     "metadata": {},
     "output_type": "execute_result"
    }
   ],
   "source": [
    "# Note: We trained our model using closing prices up to Feburary 3rd, 2018. \n",
    "# We will now feed our model data from Feburary 11th, 2018 through Feburary 15th, 2018\n",
    "# and have it predict the closing price for Feburary 22nd, 2018, which is also not in our data set. (No chance of being bias)\n",
    "XVal = np.array([[8070.8, 8891.21, 8516.24, 9477.84, 10016.49]])\n",
    "print(XVal) # Predicing Feburary 22nd, 2018 Price (Actual: 9830.43)\n",
    "model3.predict(XVal)"
   ]
  },
  {
   "cell_type": "code",
   "execution_count": 40,
   "metadata": {},
   "outputs": [
    {
     "name": "stdout",
     "output_type": "stream",
     "text": [
      "200/200 [==============================] - 0s 648us/step\n",
      "The evaluation loss for model 1 is: 0.028085412457585335\n"
     ]
    }
   ],
   "source": [
    "score = model1.evaluate(XEvaluation,YEvaluation,batch_size=100, verbose=1)\n",
    "test_loss = score[0]\n",
    "print(\"The evaluation loss for model 1 is: \" + str(test_loss))"
   ]
  },
  {
   "cell_type": "code",
   "execution_count": 41,
   "metadata": {},
   "outputs": [
    {
     "name": "stdout",
     "output_type": "stream",
     "text": [
      "200/200 [==============================] - 0s 596us/step\n",
      "The evaluation loss for model 2 is: 0.032262615859508514\n"
     ]
    }
   ],
   "source": [
    "score = model2.evaluate(XEvaluation,YEvaluation,batch_size=100, verbose=1)\n",
    "test_loss = score[0]\n",
    "print(\"The evaluation loss for model 2 is: \" + str(test_loss))"
   ]
  },
  {
   "cell_type": "code",
   "execution_count": 42,
   "metadata": {},
   "outputs": [
    {
     "name": "stdout",
     "output_type": "stream",
     "text": [
      "200/200 [==============================] - 0s 648us/step\n",
      "The evaluation loss for model 3 is: 0.027356989681720734\n"
     ]
    }
   ],
   "source": [
    "score = model3.evaluate(XEvaluation,YEvaluation,batch_size=100, verbose=1)\n",
    "test_loss = score[0]\n",
    "print(\"The evaluation loss for model 3 is: \" + str(test_loss))"
   ]
  }
 ],
 "metadata": {
  "kernelspec": {
   "display_name": "Python 3",
   "language": "python",
   "name": "python3"
  },
  "language_info": {
   "codemirror_mode": {
    "name": "ipython",
    "version": 3
   },
   "file_extension": ".py",
   "mimetype": "text/x-python",
   "name": "python",
   "nbconvert_exporter": "python",
   "pygments_lexer": "ipython3",
   "version": "3.6.4"
  }
 },
 "nbformat": 4,
 "nbformat_minor": 2
}
