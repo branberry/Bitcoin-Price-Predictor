{
 "cells": [
  {
   "cell_type": "code",
   "execution_count": null,
   "metadata": {},
   "outputs": [],
   "source": [
    "from keras.models import Sequential\n",
    "from keras.layers.core import Dense, Activation\n",
    "from keras.wrappers.scikit_learn import KerasRegressor\n",
    "from keras.optimizers import SGD\n",
    "import numpy as np\n",
    "import pandas as pd\n",
    "import seaborn as sns\n",
    "import matplotlib.pyplot as plt"
   ]
  },
  {
   "cell_type": "code",
   "execution_count": null,
   "metadata": {},
   "outputs": [],
   "source": [
    "# Trying to convert the input data, which starts off as dataframeX, must take 5 days and then transpose it\n",
    "# and then convert it into a numpy array\n",
    "\n",
    "rawdata = pd.read_csv('data/bitcoin.csv',usecols=[8])\n",
    "days = 5\n",
    "predict_delta = 7\n",
    "#print(rawdata.shape)\n",
    "\n",
    "X = []\n",
    "Y = rawdata.tail(rawdata.shape[0] - predict_delta).as_matrix().tolist()\n",
    "\n",
    "for i in range(rawdata.shape[0]-predict_delta):\n",
    "    X.append(rawdata.head(days + i).tail(days).as_matrix().transpose().tolist()[0])\n",
    "\n",
    "X = np.array(X)\n",
    "Y = np.array(Y)\n",
    "\n",
    "#print(Y.size)\n",
    "print(X[5])"
   ]
  },
  {
   "cell_type": "code",
   "execution_count": null,
   "metadata": {},
   "outputs": [],
   "source": [
    "model = Sequential()\n",
    "model.add(Dense(1,input_shape=(5,)))\n",
    "model.add(Activation('relu'))\n",
    "\n",
    "sgd = SGD(0.01)\n",
    "\n",
    "model.compile(loss='msle',optimizer=sgd,\n",
    "             metrics=['msle'])\n",
    "\n",
    "H = model.fit(X,Y,epochs=10)"
   ]
  },
  {
   "cell_type": "code",
   "execution_count": null,
   "metadata": {},
   "outputs": [],
   "source": [
    "# Feburary 11th through Feburary 15th\n",
    "XVal = np.array([[8070.8, 8891.21, 8516.24, 9477.84, 10016.49]])\n",
    "print(XVal)\n",
    "# Predicing Feburary 22nd Price\n",
    "model.predict(XVal)\n"
   ]
  }
 ],
 "metadata": {
  "kernelspec": {
   "display_name": "Python 3",
   "language": "python",
   "name": "python3"
  },
  "language_info": {
   "codemirror_mode": {
    "name": "ipython",
    "version": 3
   },
   "file_extension": ".py",
   "mimetype": "text/x-python",
   "name": "python",
   "nbconvert_exporter": "python",
   "pygments_lexer": "ipython3",
   "version": "3.6.4"
  }
 },
 "nbformat": 4,
 "nbformat_minor": 2
}
