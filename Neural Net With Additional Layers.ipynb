{
 "cells": [
  {
   "cell_type": "code",
   "execution_count": 21,
   "metadata": {},
   "outputs": [],
   "source": [
    "from keras.models import Sequential\n",
    "from keras.layers.core import Dense, Activation\n",
    "from keras.layers import Dropout, Flatten\n",
    "from keras.wrappers.scikit_learn import KerasRegressor\n",
    "from keras.optimizers import SGD\n",
    "import numpy as np\n",
    "import pandas as pd\n",
    "import seaborn as sns\n",
    "import matplotlib.pyplot as plt"
   ]
  },
  {
   "cell_type": "code",
   "execution_count": 3,
   "metadata": {},
   "outputs": [
    {
     "name": "stdout",
     "output_type": "stream",
     "text": [
      "[ 97.75 112.5  115.91 112.3  111.5 ]\n"
     ]
    }
   ],
   "source": [
    "# Trying to convert the input data, which starts off as dataframeX, must take 5 days and then transpose it\n",
    "# and then convert it into a numpy array\n",
    "\n",
    "rawdata = pd.read_csv('data/bitcoin.csv',usecols=[8])\n",
    "days = 5\n",
    "predict_delta = 7\n",
    "#print(rawdata.shape)\n",
    "\n",
    "X = []\n",
    "Y = rawdata.tail(rawdata.shape[0] - predict_delta).as_matrix().tolist()\n",
    "\n",
    "for i in range(rawdata.shape[0]-predict_delta):\n",
    "    X.append(rawdata.head(days + i).tail(days).as_matrix().transpose().tolist()[0])\n",
    "\n",
    "X = np.array(X)\n",
    "Y = np.array(Y)\n",
    "\n",
    "#print(Y.size)\n",
    "print(X[5])"
   ]
  },
  {
   "cell_type": "code",
   "execution_count": 86,
   "metadata": {},
   "outputs": [
    {
     "name": "stdout",
     "output_type": "stream",
     "text": [
      "Epoch 1/9\n",
      "1738/1738 [==============================] - 1s 432us/step - loss: 74.6573 - acc: 0.0000e+00\n",
      "Epoch 2/9\n",
      "1738/1738 [==============================] - 0s 76us/step - loss: 46.8331 - acc: 0.0000e+00\n",
      "Epoch 3/9\n",
      "1738/1738 [==============================] - 0s 99us/step - loss: 20.2402 - acc: 0.0000e+00\n",
      "Epoch 4/9\n",
      "1738/1738 [==============================] - 0s 76us/step - loss: 6.4406 - acc: 5.7537e-04\n",
      "Epoch 5/9\n",
      "1738/1738 [==============================] - 0s 85us/step - loss: 6.1401 - acc: 0.0012\n",
      "Epoch 6/9\n",
      "1738/1738 [==============================] - 0s 80us/step - loss: 6.1257 - acc: 0.0000e+00\n",
      "Epoch 7/9\n",
      "1738/1738 [==============================] - 0s 77us/step - loss: 6.1126 - acc: 0.0017\n",
      "Epoch 8/9\n",
      "1738/1738 [==============================] - 0s 73us/step - loss: 6.0786 - acc: 0.0012\n",
      "Epoch 9/9\n",
      "1738/1738 [==============================] - 0s 78us/step - loss: 6.0715 - acc: 0.0017\n"
     ]
    }
   ],
   "source": [
    "model = Sequential()\n",
    "model.add(Dense(1,input_shape=(5,),kernel_initializer='normal'))\n",
    "model.add(Activation('relu'))\n",
    "model.add(Dropout(2.7))\n",
    "\n",
    "\n",
    "model.compile(loss='mean_absolute_percentage_error',optimizer='rmsprop',\n",
    "             metrics=['accuracy'])\n",
    "\n",
    "H = model.fit(X,Y,epochs=9)"
   ]
  },
  {
   "cell_type": "code",
   "execution_count": 87,
   "metadata": {},
   "outputs": [
    {
     "name": "stdout",
     "output_type": "stream",
     "text": [
      "[[ 8070.8   8891.21  8516.24  9477.84 10016.49]]\n"
     ]
    },
    {
     "data": {
      "text/plain": [
       "array([[8957.001]], dtype=float32)"
      ]
     },
     "execution_count": 87,
     "metadata": {},
     "output_type": "execute_result"
    }
   ],
   "source": [
    "# Feburary 11th through Feburary 15th\n",
    "XVal = np.array([[8070.8, 8891.21, 8516.24, 9477.84, 10016.49]])\n",
    "print(XVal)\n",
    "# Predicing Feburary 22nd closing price of 9830.43\n",
    "model.predict(XVal)\n"
   ]
  },
  {
   "cell_type": "code",
   "execution_count": 43,
   "metadata": {},
   "outputs": [
    {
     "name": "stdout",
     "output_type": "stream",
     "text": [
      "_________________________________________________________________\n",
      "Layer (type)                 Output Shape              Param #   \n",
      "=================================================================\n",
      "dense_39 (Dense)             (None, 1)                 6         \n",
      "_________________________________________________________________\n",
      "activation_40 (Activation)   (None, 1)                 0         \n",
      "_________________________________________________________________\n",
      "dropout_16 (Dropout)         (None, 1)                 0         \n",
      "=================================================================\n",
      "Total params: 6\n",
      "Trainable params: 6\n",
      "Non-trainable params: 0\n",
      "_________________________________________________________________\n"
     ]
    }
   ],
   "source": [
    "model.summary()"
   ]
  },
  {
   "cell_type": "code",
   "execution_count": null,
   "metadata": {},
   "outputs": [],
   "source": []
  }
 ],
 "metadata": {
  "kernelspec": {
   "display_name": "Python 3",
   "language": "python",
   "name": "python3"
  },
  "language_info": {
   "codemirror_mode": {
    "name": "ipython",
    "version": 3
   },
   "file_extension": ".py",
   "mimetype": "text/x-python",
   "name": "python",
   "nbconvert_exporter": "python",
   "pygments_lexer": "ipython3",
   "version": "3.6.4"
  }
 },
 "nbformat": 4,
 "nbformat_minor": 2
}
