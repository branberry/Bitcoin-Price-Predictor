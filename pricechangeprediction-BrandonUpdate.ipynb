{
 "cells": [
  {
   "cell_type": "code",
   "execution_count": 1,
   "metadata": {},
   "outputs": [
    {
     "name": "stderr",
     "output_type": "stream",
     "text": [
      "b:\\anaconda3\\envs\\tensorflow\\lib\\site-packages\\h5py\\__init__.py:36: FutureWarning: Conversion of the second argument of issubdtype from `float` to `np.floating` is deprecated. In future, it will be treated as `np.float64 == np.dtype(float).type`.\n",
      "  from ._conv import register_converters as _register_converters\n",
      "Using TensorFlow backend.\n"
     ]
    }
   ],
   "source": [
    "from keras.models import Sequential, load_model\n",
    "from keras.layers.core import Dense, Activation\n",
    "from keras.layers import Dropout, Flatten\n",
    "from keras.wrappers.scikit_learn import KerasRegressor\n",
    "from keras.optimizers import SGD\n",
    "from keras.utils import to_categorical\n",
    "import numpy as np\n",
    "import pandas as pd\n",
    "import seaborn as sns\n",
    "import matplotlib.pyplot as plt"
   ]
  },
  {
   "cell_type": "code",
   "execution_count": 2,
   "metadata": {},
   "outputs": [],
   "source": [
    "# This function retrieves the previous 4 days given a single day for input from the .csv file.\n",
    "def getEvalData(nparray,date,predict_delta):\n",
    "    res = [[]]\n",
    "    idx = np.argwhere(nparray==date)[0][0] - 4\n",
    "    # if the given date does not have 5 previous values...\n",
    "    if idx < 4 or idx + 7 > nparray.shape[0]:\n",
    "        return\n",
    "    else:\n",
    "        for i in range(5):\n",
    "            res[0].append(nparray[i+idx][1])\n",
    "        # the day we are predicting is t\n",
    "        predict_day = nparray[4+idx+predict_delta][1]\n",
    "        predict_day_percent = (predict_day - res[0][4])/predict_day\n",
    "         # putting y-values into the correct bucket\n",
    "        if predict_day_percent >= .03:\n",
    "            res.append(np.array([1, 0, 0]))\n",
    "\n",
    "        elif predict_day_percent > -.03 and predict_day_percent < .03:\n",
    "            res.append(np.array([0, 1, 0]))\n",
    "\n",
    "        else:\n",
    "            res.append(np.array([0, 0, 1]))\n",
    "        res.append(predict_day)\n",
    "    return res\n",
    "        "
   ]
  },
  {
   "cell_type": "code",
   "execution_count": 3,
   "metadata": {},
   "outputs": [],
   "source": [
    "# Trying to convert the input data, which starts off as dataframeX, must take 5 days and then transpose it\n",
    "# and then convert it into a numpy array\n",
    "\n",
    "rawdata = pd.read_csv('data/bitcoin.csv',usecols=[8])\n",
    "days = 5                                                      # Number of days we are looking at\n",
    "predict_delta = 7                                             # Number of days we are predicting into the future \n",
    "number_of_items = rawdata.shape[0] - (predict_delta + days)   # number of tests\n",
    "# size of our test \n",
    "test_size = number_of_items - 733\n",
    "\n",
    "# five day blocks in a list\n",
    "Xtrain = []    \n",
    "# the values of the day we are trying to predict\n",
    "Ytrain = []                                                   \n",
    "\n",
    "\n",
    "\n",
    "# Splits the array of closing prices up into multiple arrays, each holding five days worth of prices\n",
    "# then transposes each array and finally appends them onto one large matrix\n",
    "countup = 0\n",
    "counteven = 0\n",
    "countdown = 0\n",
    "for i in range(number_of_items - 200): \n",
    "    # finding the predict day\n",
    "    predict = rawdata.head(days + i + predict_delta).tail(1).as_matrix().transpose().tolist()[0][0]\n",
    "    \n",
    "    # using the last day of the five consecutive to calculate percentage\n",
    "    last_day = rawdata.head(days + i).tail(1).as_matrix().transpose().tolist()[0][0]\n",
    "    \n",
    "    # Converting and adding data to arrays\n",
    "    Xtrain.append(rawdata.head(days + i).tail(days).as_matrix().transpose().tolist()[0])\n",
    "    \n",
    "    # calculating percentage of how much the price changed\n",
    "    y_val = (predict - last_day)/predict\n",
    "    \n",
    "    if y_val >= .03:\n",
    "        # a value of [ 1 0 0 ] represents that it will increase by 3% in a week\n",
    "        Ytrain.append(np.array([1, 0, 0]))\n",
    "        \n",
    "    elif y_val > -.03 and y_val < .03:\n",
    "        # a value of [ 0 1 0 ] represents that the value will stay within 3%\n",
    "        Ytrain.append(np.array([0, 1, 0]))\n",
    "        \n",
    "    else:\n",
    "        # a value of [ 0 0 1] represents a value that will decrease by 3%\n",
    "        Ytrain.append(np.array([0, 0, 1]))\n",
    "        \n",
    "\n",
    "# converts python arrays into numpy arrays\n",
    "Xtrain = np.array(Xtrain)\n",
    "Ytrain = np.array(Ytrain)\n"
   ]
  },
  {
   "cell_type": "code",
   "execution_count": 6,
   "metadata": {},
   "outputs": [
    {
     "data": {
      "image/png": "[encoded data removed]",
      "text/plain": [
       "<matplotlib.figure.Figure at 0x18608c9b400>"
      ]
     },
     "metadata": {},
     "output_type": "display_data"
    }
   ],
   "source": [
    "# This cell is being used to visualize the \"buckets\"\n",
    "histo_data = np.array([countup,counteven,countdown])\n",
    "points = np.array([1,2,3])\n",
    "sns.distplot(histo_data, bins=3)\n",
    "plt.show()\n"
   ]
  },
  {
   "cell_type": "code",
   "execution_count": 4,
   "metadata": {},
   "outputs": [],
   "source": [
    "# number of evalutaion data points\n",
    "eval_size = number_of_items - 200\n",
    "\n",
    "# evaluation input data\n",
    "XEvaluation = []\n",
    "# evaluation output data\n",
    "YEvaluation = []\n",
    "\n",
    "# appending evaluation data to appropriate arrays\n",
    "for i in range(200):\n",
    "    # finding the day we want to predict a week out\n",
    "    predict = rawdata.head(days + i + test_size + predict_delta).tail(1).as_matrix().transpose().tolist()[0][0]\n",
    "    \n",
    "    # finding the last day out of the 5 we are using as input to later calculate the percent difference \n",
    "    # of the change.  The percentage change is not the absolute value as we want to calculate negative percentages as well\n",
    "    last_day = rawdata.head(days + i + test_size).tail(1).as_matrix().transpose().tolist()[0][0]\n",
    "    \n",
    "    # result after running the AvgPrevious function on the 5 days used as input\n",
    "    XEvaluation.append(rawdata.head(days + i + test_size).tail(days).as_matrix().transpose().tolist()[0])\n",
    "    \n",
    "    \n",
    "    # putting y-values into the correct bucket\n",
    "    y_val = (predict - last_day)/predict\n",
    "\n",
    "    if y_val >= .03:\n",
    "        YEvaluation.append(np.array([1, 0, 0]))\n",
    "        \n",
    "    elif y_val > -.03 and y_val < .03:\n",
    "        YEvaluation.append(np.array([0, 1, 0]))\n",
    "        \n",
    "    else:\n",
    "        YEvaluation.append(np.array([0, 0, 1]))\n",
    "    \n",
    "XEvaluation = np.array(XEvaluation)\n",
    "YEvaluation = np.array(YEvaluation)"
   ]
  },
  {
   "cell_type": "code",
   "execution_count": 20,
   "metadata": {
    "scrolled": true
   },
   "outputs": [
    {
     "name": "stdout",
     "output_type": "stream",
     "text": [
      "Epoch 1/5\n",
      "1533/1533 [==============================] - 1s 422us/step - loss: 1.0977 - acc: 0.3757\n",
      "Epoch 2/5\n",
      "1533/1533 [==============================] - 0s 162us/step - loss: 1.0911 - acc: 0.3862\n",
      "Epoch 3/5\n",
      "1533/1533 [==============================] - 0s 217us/step - loss: 1.0869 - acc: 0.3855\n",
      "Epoch 4/5\n",
      "1533/1533 [==============================] - 0s 171us/step - loss: 1.0844 - acc: 0.4057\n",
      "Epoch 5/5\n",
      "1533/1533 [==============================] - 0s 171us/step - loss: 1.0859 - acc: 0.3894\n"
     ]
    }
   ],
   "source": [
    "# Using RMSProp optimizer\n",
    "\n",
    "model1 = Sequential()\n",
    "\n",
    "model1.add(Dense(48,input_dim=5))\n",
    "model1.add(Activation('sigmoid'))\n",
    "model1.add(Dropout(0.025))\n",
    "model1.add(Dense(48, activation='relu'))\n",
    "model1.add(Dense(24, activation='relu'))\n",
    "model1.add(Dense(3, activation='softmax'))\n",
    "\n",
    "model1.compile(loss='categorical_crossentropy',optimizer='rmsprop', metrics=['accuracy'])\n",
    "\n",
    "H1 = model1.fit(Xtrain, Ytrain, epochs=5,shuffle=True)"
   ]
  },
  {
   "cell_type": "code",
   "execution_count": 18,
   "metadata": {},
   "outputs": [
    {
     "name": "stdout",
     "output_type": "stream",
     "text": [
      "Epoch 1/5\n",
      "1533/1533 [==============================] - 1s 424us/step - loss: 1.1604 - acc: 0.3470\n",
      "Epoch 2/5\n",
      "1533/1533 [==============================] - 0s 171us/step - loss: 1.1140 - acc: 0.3523\n",
      "Epoch 3/5\n",
      "1533/1533 [==============================] - 0s 169us/step - loss: 1.1025 - acc: 0.3718\n",
      "Epoch 4/5\n",
      "1533/1533 [==============================] - 0s 175us/step - loss: 1.1008 - acc: 0.3575\n",
      "Epoch 5/5\n",
      "1533/1533 [==============================] - 0s 197us/step - loss: 1.1065 - acc: 0.3412\n"
     ]
    }
   ],
   "source": [
    "# Using the adam optimizer\n",
    "model2 = Sequential()\n",
    "\n",
    "model2.add(Dense(48,input_dim=5))\n",
    "model2.add(Activation('sigmoid'))\n",
    "model2.add(Dropout(0.025))\n",
    "model2.add(Dense(48, activation='relu'))\n",
    "model2.add(Dense(24, activation='relu'))\n",
    "model2.add(Dense(3, activation='softmax'))\n",
    "\n",
    "model2.compile(loss='categorical_crossentropy',optimizer='adam', metrics=['accuracy'])\n",
    "\n",
    "H2 = model2.fit(Xtrain, Ytrain, epochs=5,shuffle=True)"
   ]
  },
  {
   "cell_type": "code",
   "execution_count": 7,
   "metadata": {},
   "outputs": [
    {
     "name": "stdout",
     "output_type": "stream",
     "text": [
      "Epoch 1/5\n",
      "1533/1533 [==============================] - 0s 244us/step - loss: 1.1150 - acc: 0.3490\n",
      "Epoch 2/5\n",
      "1533/1533 [==============================] - 0s 145us/step - loss: 1.0935 - acc: 0.3659\n",
      "Epoch 3/5\n",
      "1533/1533 [==============================] - 0s 130us/step - loss: 1.0927 - acc: 0.3751\n",
      "Epoch 4/5\n",
      "1533/1533 [==============================] - 0s 138us/step - loss: 1.0934 - acc: 0.3744\n",
      "Epoch 5/5\n",
      "1533/1533 [==============================] - 0s 185us/step - loss: 1.0943 - acc: 0.3744\n"
     ]
    }
   ],
   "source": [
    "# Using the Stochastic Gradient Descent optimizer\n",
    "model3 = Sequential()\n",
    "\n",
    "model3.add(Dense(48,input_dim=5))\n",
    "model3.add(Activation('sigmoid'))\n",
    "model3.add(Dropout(0.025))\n",
    "model3.add(Dense(48, activation='relu'))\n",
    "model3.add(Dense(24, activation='relu'))\n",
    "model3.add(Dense(3, activation='softmax'))\n",
    "\n",
    "sgd = SGD(0.01)\n",
    "\n",
    "model3.compile(loss='categorical_crossentropy',optimizer=sgd, metrics=['accuracy'])\n",
    "\n",
    "H = model3.fit(Xtrain, Ytrain, epochs=5,shuffle=True)"
   ]
  },
  {
   "cell_type": "code",
   "execution_count": 13,
   "metadata": {},
   "outputs": [
    {
     "name": "stdout",
     "output_type": "stream",
     "text": [
      "[[0.43933412 0.30336842 0.25729746]]\n"
     ]
    }
   ],
   "source": [
    "# Note: We trained our model using closing prices up to Feburary 3rd, 2018. \n",
    "# We will now feed our model data from Feburary 11th, 2018 through Feburary 15th, 2018\n",
    "# and have it predict the closing price for Feburary 22nd, 2018, which is also not in our data set. (No chance of being bias)\n",
    "Test = [8070.8, 8891.21, 8516.24, 9477.84, 10016.49]\n",
    "XVal = np.array([Test])\n",
    "r = model1.predict(XVal)\n",
    "\n",
    "print(r)"
   ]
  },
  {
   "cell_type": "code",
   "execution_count": 8,
   "metadata": {},
   "outputs": [
    {
     "name": "stdout",
     "output_type": "stream",
     "text": [
      "_________________________________________________________________\n",
      "Layer (type)                 Output Shape              Param #   \n",
      "=================================================================\n",
      "dense_1 (Dense)              (None, 48)                288       \n",
      "_________________________________________________________________\n",
      "activation_1 (Activation)    (None, 48)                0         \n",
      "_________________________________________________________________\n",
      "dropout_1 (Dropout)          (None, 48)                0         \n",
      "_________________________________________________________________\n",
      "dense_2 (Dense)              (None, 48)                2352      \n",
      "_________________________________________________________________\n",
      "dense_3 (Dense)              (None, 24)                1176      \n",
      "_________________________________________________________________\n",
      "dense_4 (Dense)              (None, 3)                 75        \n",
      "=================================================================\n",
      "Total params: 3,891\n",
      "Trainable params: 3,891\n",
      "Non-trainable params: 0\n",
      "_________________________________________________________________\n"
     ]
    }
   ],
   "source": [
    "model1.summary()"
   ]
  },
  {
   "cell_type": "code",
   "execution_count": 14,
   "metadata": {},
   "outputs": [
    {
     "name": "stdout",
     "output_type": "stream",
     "text": [
      "[[0.3474524  0.37958705 0.27296057]]\n",
      "[[5831.79, 5678.19, 5725.59, 5605.51, 5590.69], array([0, 1, 0]), 5750.8]\n"
     ]
    }
   ],
   "source": [
    "rawdata = pd.read_csv('data/bitcoin.csv',usecols=[3,8])\n",
    "data = rawdata.as_matrix()\n",
    "\n",
    "res = getEvalData(data,'2017-10-18',predict_delta)\n",
    "\n",
    "evaluation = np.array([res[0]])\n",
    "print(model1.predict(evaluation))\n",
    "print(res)"
   ]
  },
  {
   "cell_type": "code",
   "execution_count": 92,
   "metadata": {},
   "outputs": [],
   "source": [
    "model.save('classifier_working.h5')"
   ]
  },
  {
   "cell_type": "code",
   "execution_count": 8,
   "metadata": {},
   "outputs": [
    {
     "name": "stdout",
     "output_type": "stream",
     "text": [
      "200/200 [==============================] - 0s 293us/step\n",
      "The evaluation loss for model 1 is: 1.0491469502449036\n"
     ]
    }
   ],
   "source": [
    "score = model1.evaluate(XEvaluation,YEvaluation,batch_size=100, verbose=1)\n",
    "test_loss = score[0]\n",
    "print(\"The evaluation loss for model 1 is: \" + str(test_loss))"
   ]
  },
  {
   "cell_type": "code",
   "execution_count": 9,
   "metadata": {},
   "outputs": [
    {
     "name": "stdout",
     "output_type": "stream",
     "text": [
      "200/200 [==============================] - 0s 255us/step\n",
      "The evaluation loss for model 2 is: 1.085853636264801\n"
     ]
    }
   ],
   "source": [
    "score = model2.evaluate(XEvaluation,YEvaluation,batch_size=100, verbose=1)\n",
    "test_loss = score[0]\n",
    "print(\"The evaluation loss for model 2 is: \" + str(test_loss))"
   ]
  },
  {
   "cell_type": "code",
   "execution_count": 10,
   "metadata": {},
   "outputs": [
    {
     "name": "stdout",
     "output_type": "stream",
     "text": [
      "200/200 [==============================] - 0s 228us/step\n",
      "The evaluation loss for model 3 is: 1.0826711654663086\n"
     ]
    }
   ],
   "source": [
    "score = model3.evaluate(XEvaluation,YEvaluation,batch_size=100, verbose=1)\n",
    "test_loss = score[0]\n",
    "print(\"The evaluation loss for model 3 is: \" + str(test_loss))"
   ]
  },
  {
   "cell_type": "code",
   "execution_count": null,
   "metadata": {},
   "outputs": [],
   "source": []
  }
 ],
 "metadata": {
  "kernelspec": {
   "display_name": "Python 3",
   "language": "python",
   "name": "python3"
  },
  "language_info": {
   "codemirror_mode": {
    "name": "ipython",
    "version": 3
   },
   "file_extension": ".py",
   "mimetype": "text/x-python",
   "name": "python",
   "nbconvert_exporter": "python",
   "pygments_lexer": "ipython3",
   "version": "3.6.4"
  }
 },
 "nbformat": 4,
 "nbformat_minor": 2
}
