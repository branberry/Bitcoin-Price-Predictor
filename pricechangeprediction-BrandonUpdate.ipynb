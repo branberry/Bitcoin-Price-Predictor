{
 "cells": [
  {
   "cell_type": "code",
   "execution_count": 1,
   "metadata": {},
   "outputs": [
    {
     "name": "stderr",
     "output_type": "stream",
     "text": [
      "b:\\anaconda3\\envs\\tensorflow\\lib\\site-packages\\h5py\\__init__.py:36: FutureWarning: Conversion of the second argument of issubdtype from `float` to `np.floating` is deprecated. In future, it will be treated as `np.float64 == np.dtype(float).type`.\n",
      "  from ._conv import register_converters as _register_converters\n",
      "Using TensorFlow backend.\n"
     ]
    }
   ],
   "source": [
    "from keras.models import Sequential, load_model\n",
    "from keras.layers.core import Dense, Activation\n",
    "from keras.layers import Dropout, Flatten\n",
    "from keras.wrappers.scikit_learn import KerasRegressor\n",
    "from keras.optimizers import SGD\n",
    "from keras.utils import to_categorical\n",
    "import numpy as np\n",
    "import pandas as pd\n",
    "import seaborn as sns\n",
    "import matplotlib.pyplot as plt"
   ]
  },
  {
   "cell_type": "code",
   "execution_count": 10,
   "metadata": {},
   "outputs": [],
   "source": [
    "# This function retrieves the previous 4 days given a single day for input from the .csv file.\n",
    "def getEvalData(nparray,date,predict_delta):\n",
    "    res = [[]]\n",
    "    idx = np.argwhere(nparray==date)[0][0] - 4\n",
    "    # if the given date does not have 5 previous values...\n",
    "    if idx < 4 or idx + 7 > nparray.shape[0]:\n",
    "        return\n",
    "    else:\n",
    "        for i in range(5):\n",
    "            res[0].append(nparray[i+idx][1])\n",
    "        # the day we are predicting is t\n",
    "        predict_day = nparray[4+idx+predict_delta][1]\n",
    "        predict_day_percent = (predict_day - res[0][4])/predict_day\n",
    "        res.append(predict_day_percent)\n",
    "        res.append(predict_day)\n",
    "    return res\n",
    "        "
   ]
  },
  {
   "cell_type": "code",
   "execution_count": 12,
   "metadata": {},
   "outputs": [
    {
     "name": "stdout",
     "output_type": "stream",
     "text": [
      "576\n",
      "518\n",
      "439\n",
      "[[ 134.21  144.54  139.    116.99  105.21]\n",
      " [ 144.54  139.    116.99  105.21   97.75]\n",
      " [ 139.    116.99  105.21   97.75  112.5 ]\n",
      " ...\n",
      " [2608.56 2518.66 2571.34 2518.44 2372.56]\n",
      " [2518.66 2571.34 2518.44 2372.56 2337.79]\n",
      " [2571.34 2518.44 2372.56 2337.79 2398.84]]\n",
      "[[1 0 0]\n",
      " [1 0 0]\n",
      " [0 1 0]\n",
      " ...\n",
      " [0 0 1]\n",
      " [0 1 0]\n",
      " [0 0 1]]\n"
     ]
    }
   ],
   "source": [
    "# Trying to convert the input data, which starts off as dataframeX, must take 5 days and then transpose it\n",
    "# and then convert it into a numpy array\n",
    "\n",
    "rawdata = pd.read_csv('data/bitcoin.csv',usecols=[8])\n",
    "days = 5                                                      # Number of days we are looking at\n",
    "predict_delta = 7                                             # Number of days we are predicting into the future \n",
    "number_of_items = rawdata.shape[0] - (predict_delta + days)   # number of tests\n",
    "# size of our test \n",
    "test_size = number_of_items - 733\n",
    "\n",
    "# five day blocks in a list\n",
    "Xtrain = []    \n",
    "# the values of the day we are trying to predict\n",
    "Ytrain = []                                                   \n",
    "\n",
    "\n",
    "\n",
    "# Splits the array of closing prices up into multiple arrays, each holding five days worth of prices\n",
    "# then transposes each array and finally appends them onto one large matrix\n",
    "countup = 0\n",
    "counteven = 0\n",
    "countdown = 0\n",
    "for i in range(number_of_items - 200): \n",
    "    # finding the predict day\n",
    "    predict = rawdata.head(days + i + predict_delta).tail(1).as_matrix().transpose().tolist()[0][0]\n",
    "    last_day = rawdata.head(days + i).tail(1).as_matrix().transpose().tolist()[0][0]\n",
    "    # Converting and adding data to arrays\n",
    "    res = rawdata.head(days + i).tail(days).as_matrix().transpose().tolist()[0]\n",
    "    Xtrain.append(res)\n",
    "    y_val = (predict - last_day)/predict\n",
    "    \n",
    "    if y_val > .03:\n",
    "        countup = countup + 1\n",
    "        # a value of [ 1 0 0 ] represents that it will increase by 3% in a week\n",
    "        Ytrain.append(np.array([1, 0, 0]))\n",
    "        \n",
    "    elif y_val > -.03 and y_val < .03:\n",
    "        counteven = counteven + 1\n",
    "        # a \n",
    "        Ytrain.append(np.array([0, 1, 0]))\n",
    "        \n",
    "    else:\n",
    "        countdown = countdown + 1\n",
    "        Ytrain.append(np.array([0, 0, 1]))\n",
    "        \n",
    "    \n",
    "print(countup)\n",
    "print(counteven)\n",
    "print(countdown)\n",
    "# converts python arrays into numpy arrays\n",
    "Xtrain = np.array(Xtrain)\n",
    "Ytrain = np.array(Ytrain)\n",
    "#print(Xtrain)\n",
    "#print(Ytrain)"
   ]
  },
  {
   "cell_type": "code",
   "execution_count": 104,
   "metadata": {},
   "outputs": [
    {
     "name": "stdout",
     "output_type": "stream",
     "text": [
      "[[ 387.49  402.97  391.73  392.15  394.97]\n",
      " [ 402.97  391.73  392.15  394.97  380.29]\n",
      " [ 391.73  392.15  394.97  380.29  379.47]\n",
      " ...\n",
      " [9170.54 8830.75 9174.91 8277.01 6955.27]\n",
      " [9170.54 8830.75 9174.91 8277.01 6955.27]\n",
      " [9170.54 8830.75 9174.91 8277.01 6955.27]]\n",
      "[[0 0 1]\n",
      " [0 1 0]\n",
      " [0 1 0]\n",
      " ...\n",
      " [0 1 0]\n",
      " [0 1 0]\n",
      " [0 1 0]]\n"
     ]
    }
   ],
   "source": [
    "# number of evalutaion data points\n",
    "eval_size = number_of_items - 200\n",
    "\n",
    "# evaluation input data\n",
    "XEvaluation = []\n",
    "# evaluation output data\n",
    "YEvaluation = []\n",
    "\n",
    "# appending evaluation data to appropriate arrays\n",
    "for i in range(eval_size):\n",
    "    # finding the day we want to predict a week out\n",
    "    predict = rawdata.head(days + i + test_size + predict_delta).tail(1).as_matrix().transpose().tolist()[0][0]\n",
    "    \n",
    "    # finding the last day out of the 5 we are using as input to later calculate the percent difference \n",
    "    # of the change.  The percentage change is not the absolute value as we want to calculate negative percentages as well\n",
    "    last_day = rawdata.head(days + i + test_size).tail(1).as_matrix().transpose().tolist()[0][0]\n",
    "    \n",
    "    # result after running the AvgPrevious function on the 5 days used as input\n",
    "    res = rawdata.head(days + i + test_size).tail(days).as_matrix().transpose().tolist()[0]\n",
    "    XEvaluation.append(res)\n",
    "    \n",
    "    \n",
    "    # putting y-values into the correct bucket\n",
    "    y_val = (predict - last_day)/predict\n",
    "\n",
    "    if y_val > .03:\n",
    "        countup = countup + 1\n",
    "        YEvaluation.append(np.array([1, 0, 0]))\n",
    "        \n",
    "    elif y_val > -.03 and y_val < .03:\n",
    "        counteven = counteven + 1\n",
    "        YEvaluation.append(np.array([0, 1, 0]))\n",
    "        \n",
    "    else:\n",
    "        countdown = countdown + 1\n",
    "        YEvaluation.append(np.array([0, 0, 1]))\n",
    "    \n",
    "XEvaluation = np.array(XEvaluation)\n",
    "YEvaluation = np.array(YEvaluation)\n",
    "\n",
    "print(XEvaluation)\n",
    "print(YEvaluation)"
   ]
  },
  {
   "cell_type": "code",
   "execution_count": 6,
   "metadata": {
    "scrolled": true
   },
   "outputs": [
    {
     "name": "stdout",
     "output_type": "stream",
     "text": [
      "Epoch 1/10\n",
      "1533/1533 [==============================] - 0s 239us/step - loss: 1.0989 - acc: 0.3731\n",
      "Epoch 2/10\n",
      "1533/1533 [==============================] - 0s 157us/step - loss: 1.0894 - acc: 0.3803\n",
      "Epoch 3/10\n",
      "1533/1533 [==============================] - 0s 145us/step - loss: 1.0899 - acc: 0.3907\n",
      "Epoch 4/10\n",
      "1533/1533 [==============================] - 0s 183us/step - loss: 1.0887 - acc: 0.3888\n",
      "Epoch 5/10\n",
      "1533/1533 [==============================] - 0s 139us/step - loss: 1.0884 - acc: 0.4018\n",
      "Epoch 6/10\n",
      "1533/1533 [==============================] - 0s 136us/step - loss: 1.0877 - acc: 0.3803\n",
      "Epoch 7/10\n",
      "1533/1533 [==============================] - 0s 138us/step - loss: 1.0847 - acc: 0.4070\n",
      "Epoch 8/10\n",
      "1533/1533 [==============================] - 0s 138us/step - loss: 1.0845 - acc: 0.4070\n",
      "Epoch 9/10\n",
      "1533/1533 [==============================] - 0s 142us/step - loss: 1.0847 - acc: 0.4103\n",
      "Epoch 10/10\n",
      "1533/1533 [==============================] - 0s 148us/step - loss: 1.0829 - acc: 0.4064\n"
     ]
    }
   ],
   "source": [
    "model = Sequential()\n",
    "\n",
    "model.add(Dense(48,input_dim=5))\n",
    "model.add(Activation('sigmoid'))\n",
    "model.add(Dropout(1.0))\n",
    "model.add(Dense(48, activation='relu'))\n",
    "model.add(Dense(24, activation='relu'))\n",
    "model.add(Dense(3, activation='softmax'))\n",
    "\n",
    "model.compile(loss='categorical_crossentropy',optimizer='rmsprop', metrics=['accuracy'])\n",
    "\n",
    "H = model.fit(Xtrain, Ytrain, epochs=10,shuffle=True)"
   ]
  },
  {
   "cell_type": "code",
   "execution_count": 7,
   "metadata": {},
   "outputs": [
    {
     "name": "stdout",
     "output_type": "stream",
     "text": [
      "[[0.47745916 0.26772314 0.2548177 ]]\n"
     ]
    }
   ],
   "source": [
    "Test = [8070.8, 8891.21, 8516.24, 9477.84, 10016.49]\n",
    "XVal = np.array([Test])\n",
    "r = model.predict(XVal)\n",
    "\n",
    "print(r)"
   ]
  },
  {
   "cell_type": "code",
   "execution_count": 105,
   "metadata": {},
   "outputs": [
    {
     "name": "stdout",
     "output_type": "stream",
     "text": [
      "1533/1533 [==============================] - 0s 208us/step\n",
      "The evaluation loss is: 1.1030109018884449\n"
     ]
    }
   ],
   "source": [
    "score = model.evaluate(XEvaluation,YEvaluation,batch_size=100, verbose=1)\n",
    "test_loss = score[0]\n",
    "print(\"The evaluation loss is: \" + str(test_loss))"
   ]
  },
  {
   "cell_type": "code",
   "execution_count": 106,
   "metadata": {},
   "outputs": [
    {
     "name": "stdout",
     "output_type": "stream",
     "text": [
      "_________________________________________________________________\n",
      "Layer (type)                 Output Shape              Param #   \n",
      "=================================================================\n",
      "dense_92 (Dense)             (None, 48)                288       \n",
      "_________________________________________________________________\n",
      "activation_32 (Activation)   (None, 48)                0         \n",
      "_________________________________________________________________\n",
      "dropout_29 (Dropout)         (None, 48)                0         \n",
      "_________________________________________________________________\n",
      "dense_93 (Dense)             (None, 48)                2352      \n",
      "_________________________________________________________________\n",
      "dense_94 (Dense)             (None, 3)                 147       \n",
      "=================================================================\n",
      "Total params: 2,787\n",
      "Trainable params: 2,787\n",
      "Non-trainable params: 0\n",
      "_________________________________________________________________\n"
     ]
    }
   ],
   "source": [
    "model.summary()"
   ]
  },
  {
   "cell_type": "code",
   "execution_count": 11,
   "metadata": {},
   "outputs": [
    {
     "name": "stdout",
     "output_type": "stream",
     "text": [
      "[[0.3150419  0.4252535  0.25970456]]\n",
      "[[5831.79, 5678.19, 5725.59, 5605.51, 5590.69], 0.027841343813034807, 5750.8]\n"
     ]
    }
   ],
   "source": [
    "rawdata = pd.read_csv('data/bitcoin.csv',usecols=[3,8])\n",
    "data = rawdata.as_matrix()\n",
    "#print(np.argwhere(data=='2016-10-08')[0][0])\n",
    "\n",
    "res = getEvalData(data,'2017-10-18',predict_delta)\n",
    "\n",
    "evaluation = np.array([res[0]])\n",
    "print(model.predict(evaluation))\n",
    "print(res)"
   ]
  },
  {
   "cell_type": "code",
   "execution_count": 92,
   "metadata": {},
   "outputs": [],
   "source": [
    "model.save('classifier_working.h5')"
   ]
  },
  {
   "cell_type": "code",
   "execution_count": null,
   "metadata": {},
   "outputs": [],
   "source": []
  }
 ],
 "metadata": {
  "kernelspec": {
   "display_name": "Python 3",
   "language": "python",
   "name": "python3"
  },
  "language_info": {
   "codemirror_mode": {
    "name": "ipython",
    "version": 3
   },
   "file_extension": ".py",
   "mimetype": "text/x-python",
   "name": "python",
   "nbconvert_exporter": "python",
   "pygments_lexer": "ipython3",
   "version": "3.6.4"
  }
 },
 "nbformat": 4,
 "nbformat_minor": 2
}
