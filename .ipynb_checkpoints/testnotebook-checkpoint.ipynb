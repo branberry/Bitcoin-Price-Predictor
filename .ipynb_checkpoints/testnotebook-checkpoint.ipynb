{
 "cells": [
  {
   "cell_type": "code",
   "execution_count": 1,
   "metadata": {},
   "outputs": [
    {
     "name": "stderr",
     "output_type": "stream",
     "text": [
      "Using TensorFlow backend.\n"
     ]
    }
   ],
   "source": [
    "from keras.models import Sequential\n",
    "from keras.layers.core import Dense, Activation\n",
    "from keras.wrappers.scikit_learn import KerasRegressor\n",
    "from keras.optimizers import SGD\n",
    "import numpy as np\n",
    "import pandas as pd\n",
    "import seaborn as sns\n",
    "import matplotlib.pyplot as plt"
   ]
  },
  {
   "cell_type": "code",
   "execution_count": 2,
   "metadata": {},
   "outputs": [
    {
     "name": "stdout",
     "output_type": "stream",
     "text": [
      "[[112.5 ]\n",
      " [115.91]\n",
      " [112.3 ]\n",
      " [111.5 ]\n",
      " [113.57]\n",
      " [112.67]\n",
      " [117.2 ]\n",
      " [115.24]\n",
      " [115.  ]\n",
      " [117.98]\n",
      " [111.5 ]\n",
      " [114.22]\n",
      " [118.76]\n",
      " [123.02]\n",
      " [123.5 ]\n",
      " [121.99]\n",
      " [122.  ]\n",
      " [122.88]\n",
      " [123.89]\n",
      " [126.7 ]\n",
      " [133.2 ]\n",
      " [131.98]\n",
      " [133.48]\n",
      " [129.75]\n",
      " [129.  ]\n",
      " [132.3 ]\n",
      " [128.8 ]\n",
      " [129.  ]\n",
      " [129.3 ]\n",
      " [122.29]\n",
      " [122.22]\n",
      " [121.42]\n",
      " [121.65]\n",
      " [118.  ]\n",
      " [111.5 ]\n",
      " [108.3 ]\n",
      " [100.  ]\n",
      " [106.35]\n",
      " [108.9 ]\n",
      " [108.15]\n",
      " [104.  ]\n",
      " [ 99.98]\n",
      " [ 99.99]\n",
      " [ 99.51]\n",
      " [101.7 ]\n",
      " [107.4 ]\n",
      " [108.25]\n",
      " [110.15]\n",
      " [109.5 ]\n",
      " [108.3 ]\n",
      " [107.6 ]\n",
      " [102.74]\n",
      " [103.95]\n",
      " [104.  ]\n",
      " [101.44]\n",
      " [ 94.65]\n",
      " [ 94.99]\n",
      " [ 96.61]\n",
      " [ 88.05]\n",
      " [ 90.13]\n",
      " [ 77.53]\n",
      " [ 80.53]\n",
      " [ 68.43]\n",
      " [ 70.28]\n",
      " [ 74.56]\n",
      " [ 76.52]\n",
      " [ 76.69]\n",
      " [ 86.76]\n",
      " [ 88.98]\n",
      " [ 93.59]\n",
      " [ 98.13]\n",
      " [ 94.69]\n",
      " [ 98.4 ]\n",
      " [ 97.45]\n",
      " [ 98.5 ]\n",
      " [ 90.58]\n",
      " [ 92.17]\n",
      " [ 89.39]\n",
      " [ 90.76]\n",
      " [ 91.61]\n",
      " [ 95.56]\n",
      " [ 94.51]\n",
      " [ 96.9 ]\n",
      " [ 96.02]\n",
      " [ 94.12]\n",
      " [ 99.76]\n",
      " [101.2 ]\n",
      " [107.99]\n",
      " [106.09]\n",
      " [104.  ]\n",
      " [104.5 ]\n",
      " [104.  ]\n",
      " [105.14]\n",
      " [106.22]\n",
      " [106.75]\n",
      " [106.75]\n",
      " [103.  ]\n",
      " [102.8 ]\n",
      " [103.  ]\n",
      " [105.  ]\n",
      " [106.64]\n",
      " [109.  ]\n",
      " [112.56]\n",
      " [109.99]\n",
      " [108.99]\n",
      " [113.5 ]\n",
      " [113.5 ]\n",
      " [119.  ]\n",
      " [121.2 ]\n",
      " [123.3 ]\n",
      " [121.15]\n",
      " [118.5 ]\n",
      " [120.05]\n",
      " [122.11]\n",
      " [120.06]\n",
      " [126.5 ]\n",
      " [122.62]\n",
      " [122.39]\n",
      " [133.49]\n",
      " [135.35]\n",
      " [138.34]\n",
      " [135.85]\n",
      " [136.77]\n",
      " [126.74]\n",
      " [126.43]\n",
      " [119.15]\n",
      " [124.15]\n",
      " [121.66]\n",
      " [127.11]\n",
      " [125.91]\n",
      " [135.25]\n",
      " [133.13]\n",
      " [134.98]\n",
      " [129.22]\n",
      " [130.37]\n",
      " [131.72]\n",
      " [131.66]\n",
      " [131.47]\n",
      " [129.65]\n",
      " [127.04]\n",
      " [127.43]\n",
      " [129.12]\n",
      " [125.95]\n",
      " [127.25]\n",
      " [128.22]\n",
      " [128.38]\n",
      " [133.78]\n",
      " [134.78]\n",
      " [137.34]]\n"
     ]
    }
   ],
   "source": [
    "dataframeX = pd.read_csv('data/smallset.csv',usecols=[5,6,7,8])\n",
    "dataframeY = pd.read_csv('data/smallsetY.csv',usecols=[8])\n",
    "Xtest = dataframeX.as_matrix()\n",
    "Ytest = dataframeY.as_matrix()\n",
    "\n",
    "print(Ytest)"
   ]
  },
  {
   "cell_type": "code",
   "execution_count": 3,
   "metadata": {},
   "outputs": [
    {
     "name": "stdout",
     "output_type": "stream",
     "text": [
      "1745\n"
     ]
    }
   ],
   "source": [
    "rawdata = pd.read_csv('data/bitcoin.csv',usecols=[8])\n",
    "\n",
    "print(rawdata.shape[0])\n",
    "X = rawdata.head(rawdata.shape[0] - 5).as_matrix()\n",
    "Y = rawdata.tail(rawdata.shape[0] - 5).as_matrix()"
   ]
  },
  {
   "cell_type": "code",
   "execution_count": 37,
   "metadata": {},
   "outputs": [
    {
     "name": "stdout",
     "output_type": "stream",
     "text": [
      "(1745, 1)\n",
      "[97.75, 112.5, 115.91, 112.3, 111.5, 113.57, 112.67, 117.2, 115.24, 115.0, 117.98, 111.5, 114.22, 118.76, 123.02, 123.5, 121.99, 122.0, 122.88, 123.89, 126.7, 133.2, 131.98, 133.48, 129.75, 129.0, 132.3, 128.8, 129.0, 129.3, 122.29, 122.22, 121.42, 121.65, 118.0, 111.5, 108.3, 100.0, 106.35, 108.9, 108.15, 104.0, 99.98, 99.99, 99.51, 101.7, 107.4, 108.25, 110.15, 109.5, 108.3, 107.6, 102.74, 103.95, 104.0, 101.44, 94.65, 94.99, 96.61, 88.05, 90.13, 77.53, 80.53, 68.43, 70.28, 74.56, 76.52, 76.69, 86.76, 88.98, 93.59, 98.13, 94.69, 98.4, 97.45, 98.5, 90.58, 92.17, 89.39, 90.76, 91.61, 95.56, 94.51, 96.9, 96.02, 94.12, 99.76, 101.2, 107.99, 106.09, 104.0, 104.5, 104.0, 105.14, 106.22, 106.75, 106.75, 103.0, 102.8, 103.0, 105.0, 106.64, 109.0, 112.56, 109.99, 108.99, 113.5, 113.5, 119.0, 121.2, 123.3, 121.15, 118.5, 120.05, 122.11, 120.06, 126.5, 122.62, 122.39, 133.49, 135.35, 138.34, 135.85, 136.77, 126.74, 126.43, 119.15, 124.15, 121.66, 127.11, 125.91, 135.25, 133.13, 134.98, 129.22, 130.37, 131.72, 131.66, 131.47, 129.65, 127.04, 127.43, 129.12, 125.95, 127.25, 128.22, 128.38, 133.78, 134.78, 137.34, 133.0, 132.18, 114.13, 123.63, 129.01, 128.55, 129.0, 126.94, 126.0, 130.69, 130.59, 130.9, 135.19, 138.13, 140.52, 145.24, 142.55, 146.25, 155.96, 172.42, 174.61, 182.21, 193.76, 213.62, 198.23, 186.69, 177.32, 196.44, 198.55, 204.39, 199.97, 204.0, 206.18, 206.22, 215.05, 229.1, 245.24, 262.5, 296.41, 338.11, 339.11, 326.62, 342.44, 360.33, 407.37, 420.2, 417.95, 440.22, 492.11, 703.56, 584.61, 590.83, 722.43, 771.44, 797.82, 774.25, 799.11, 928.1, 1001.96, 1031.95, 1131.97, 1129.43, 955.85, 1043.33, 1078.28, 1151.17, 1045.11, 829.45, 698.23, 795.87, 893.19, 988.51, 878.48, 873.26, 892.58, 872.6, 876.12, 705.97, 682.12, 522.7, 691.96, 625.32, 605.66, 617.18, 673.41, 665.58, 682.21, 761.98, 735.07, 727.83, 745.05, 756.13, 754.01, 771.4, 802.39, 818.72, 859.51, 933.53, 953.29, 802.0, 842.72, 846.86, 868.48, 913.95, 863.22, 841.2, 833.27, 860.9, 835.63, 814.64, 840.0, 870.96, 870.2, 863.91, 845.59, 822.04, 797.07, 853.61, 885.28, 771.39, 812.51, 826.0, 819.03, 829.92, 832.58, 825.37, 823.83, 827.96, 811.91, 781.55, 712.4, 673.92, 682.9, 681.03, 672.17, 651.72, 605.24, 661.99, 650.92, 616.63, 626.27, 626.6, 623.03, 556.14, 574.16, 605.42, 605.82, 546.32, 538.71, 582.69, 578.77, 549.26, 565.61, 559.79, 667.76, 666.78, 665.51, 663.86, 629.15, 617.45, 636.96, 627.79, 634.11, 632.1, 638.14, 628.8, 636.12, 631.11, 622.37, 614.83, 609.89, 588.77, 571.49, 565.04, 561.27, 583.41, 583.92, 580.83, 471.24, 495.67, 491.17, 460.27, 457.0, 478.38, 437.14, 444.72, 447.53, 461.91, 460.5, 449.42, 453.09, 442.73, 365.18, 420.95, 421.12, 414.06, 458.79, 515.59, 527.39, 495.96, 479.64, 501.56, 498.17, 495.77, 487.92, 491.3, 500.46, 461.45, 458.6, 436.39, 440.29, 447.21, 447.64, 457.76, 449.38, 437.76, 436.4, 433.48, 428.96, 438.82, 440.17, 449.46, 454.43, 438.89, 441.46, 440.67, 443.97, 447.25, 448.06, 448.9, 446.26, 446.18, 485.72, 491.77, 524.58, 520.22, 525.14, 571.59, 583.42, 571.24, 577.06, 568.18, 615.33, 623.68, 630.23, 660.62, 667.61, 641.61, 659.26, 653.7, 654.97, 656.14, 649.16, 653.15, 633.02, 586.95, 600.16, 577.36, 592.94, 592.19, 610.86, 607.96, 598.07, 594.15, 594.99, 602.27, 593.98, 582.36, 566.34, 581.14, 597.26, 596.55, 602.72, 639.8, 640.81, 650.88, 645.16, 630.69, 631.46, 635.81, 624.09, 624.82, 624.51, 616.76, 632.0, 633.71, 626.5, 619.32, 621.59, 616.8, 623.09, 628.78, 628.51, 623.9, 622.21, 621.55, 619.41, 601.73, 601.09, 595.81, 593.85, 585.69, 584.73, 567.29, 586.24, 594.92, 589.33, 586.67, 588.78, 585.44, 584.65, 588.87, 592.58, 589.37, 591.06, 576.37, 569.64, 546.66, 505.97, 497.01, 519.71, 491.8, 461.46, 485.25, 511.98, 517.24, 514.04, 498.07, 508.29, 502.5, 511.57, 511.15, 507.81, 508.52, 504.25, 477.76, 474.88, 477.43, 477.59, 489.66, 483.34, 484.83, 482.28, 474.6, 475.26, 479.36, 479.75, 477.75, 479.0, 477.89, 475.37, 466.06, 457.33, 424.44, 394.8, 408.9, 398.82, 402.15, 435.79, 423.2, 411.57, 404.43, 399.52, 377.18, 375.47, 386.94, 383.62, 375.07, 359.51, 328.87, 320.51, 330.08, 336.19, 352.94, 365.03, 361.56, 362.3, 378.55, 390.41, 400.87, 394.77, 382.56, 383.76, 391.44, 389.55, 382.85, 386.48, 383.16, 358.42, 358.35, 347.27, 354.7, 352.99, 357.62, 335.59, 345.31, 338.32, 325.75, 325.89, 327.55, 330.49, 339.49, 349.29, 342.42, 345.49, 363.26, 366.92, 367.69, 423.56, 420.74, 397.82, 376.13, 387.88, 387.41, 375.2, 380.56, 357.84, 350.85, 352.92, 367.57, 376.9, 375.35, 368.37, 369.67, 376.45, 375.49, 378.05, 379.25, 381.31, 375.01, 369.6, 376.85, 374.79, 375.1, 361.91, 352.22, 346.37, 350.51, 352.54, 347.38, 351.63, 345.35, 327.06, 319.78, 311.4, 317.84, 329.96, 320.84, 331.89, 334.57, 322.53, 319.01, 327.92, 315.86, 317.24, 312.67, 310.74, 320.19, 314.25, 315.03, 281.08, 264.19, 274.47, 286.19, 294.34, 283.35, 290.41, 274.8, 265.66, 267.8, 225.86, 178.1, 209.84, 208.1, 199.26, 210.34, 214.86, 211.31, 226.9, 233.41, 232.88, 247.85, 253.72, 273.47, 263.48, 233.91, 233.51, 226.43, 217.46, 226.97, 238.23, 227.27, 226.85, 217.11, 222.27, 227.75, 223.41, 220.11, 219.84, 219.19, 221.76, 235.43, 257.32, 234.82, 233.84, 243.61, 236.33, 240.28, 243.78, 244.53, 235.98, 238.89, 238.74, 237.47, 236.43, 253.83, 254.26, 260.2, 275.67, 281.7, 273.09, 276.18, 272.72, 276.26, 274.35, 289.61, 291.76, 296.38, 294.35, 285.34, 281.88, 286.39, 290.59, 285.5, 256.3, 260.93, 261.75, 260.02, 267.96, 266.74, 245.59, 246.2, 248.53, 247.03, 252.8, 242.71, 247.53, 244.22, 247.27, 253.0, 254.32, 253.7, 260.6, 255.49, 253.18, 245.02, 243.68, 236.07, 236.55, 236.15, 224.59, 219.16, 223.83, 228.57, 222.88, 223.36, 222.6, 224.63, 235.27, 234.18, 236.46, 231.27, 226.39, 219.43, 229.29, 225.85, 225.81, 236.15, 232.08, 234.93, 240.36, 239.02, 236.12, 229.78, 237.33, 243.86, 241.83, 240.3, 242.16, 241.11, 236.38, 236.93, 237.6, 236.15, 236.8, 233.13, 231.95, 234.02, 235.34, 240.35, 238.87, 240.95, 237.11, 237.12, 237.28, 237.41, 237.1, 233.34, 230.19, 222.93, 225.8, 225.87, 224.32, 224.95, 225.62, 222.88, 228.49, 229.05, 228.8, 229.71, 229.98, 232.4, 233.54, 236.82, 250.9, 249.28, 249.01, 244.61, 245.21, 243.94, 246.99, 244.3, 240.51, 242.8, 243.59, 250.99, 249.01, 257.06, 263.07, 258.62, 255.41, 256.34, 260.89, 271.91, 269.03, 266.21, 270.79, 269.23, 284.89, 293.12, 310.87, 292.05, 287.46, 285.83, 278.09, 279.47, 274.9, 273.61, 278.98, 275.83, 277.22, 276.05, 288.28, 288.7, 292.69, 293.62, 294.43, 289.59, 287.72, 284.65, 281.6, 282.61, 281.23, 285.22, 281.88, 278.58, 279.58, 261.0, 265.08, 264.47, 270.39, 266.38, 264.08, 265.68, 261.55, 258.51, 257.98, 211.08, 226.68, 235.35, 232.57, 230.39, 228.17, 210.5, 221.61, 225.83, 224.77, 231.4, 229.78, 228.76, 230.06, 228.12, 229.28, 227.18, 230.3, 235.02, 239.84, 239.85, 243.61, 238.17, 238.48, 240.11, 235.23, 230.51, 230.64, 230.3, 229.09, 229.81, 232.97, 231.49, 231.21, 227.09, 230.62, 230.28, 234.53, 235.14, 234.34, 232.76, 239.14, 236.69, 236.06, 237.55, 237.29, 238.73, 238.26, 240.38, 246.06, 242.97, 242.3, 243.93, 244.94, 247.05, 245.31, 249.51, 251.99, 254.32, 262.87, 270.64, 261.64, 263.44, 269.46, 266.27, 274.02, 276.5, 281.65, 283.68, 285.3, 293.79, 304.62, 313.86, 328.01, 314.17, 325.43, 361.19, 403.42, 411.56, 386.35, 374.47, 386.48, 373.37, 380.26, 336.82, 311.08, 338.15, 336.75, 332.91, 320.17, 330.75, 335.09, 334.59, 326.15, 322.02, 326.93, 324.54, 323.05, 320.05, 328.21, 352.68, 358.04, 357.38, 371.29, 377.32, 362.49, 359.19, 361.05, 363.18, 388.95, 388.78, 395.54, 415.56, 417.56, 415.48, 451.94, 435.0, 433.75, 444.18, 465.32, 454.93, 456.08, 463.62, 462.32, 442.69, 438.64, 436.57, 442.4, 454.99, 455.65, 417.27, 422.82, 422.28, 432.98, 426.62, 430.57, 434.33, 433.44, 430.01, 433.09, 431.96, 429.11, 458.05, 453.23, 447.61, 447.99, 448.43, 435.69, 432.37, 430.31, 364.33, 387.54, 382.3, 387.17, 380.15, 420.23, 410.26, 382.49, 387.49, 402.97, 391.73, 392.15, 394.97, 380.29, 379.47, 378.25, 368.77, 373.06, 374.45, 369.95, 389.59, 386.55, 376.52, 376.62, 373.45, 376.03, 381.65, 379.65, 384.26, 391.86, 407.23, 400.19, 407.49, 416.32, 422.37, 420.79, 437.16, 438.8, 437.75, 420.74, 424.95, 424.54, 432.15, 432.52, 433.5, 437.7, 435.12, 423.99, 421.65, 410.94, 400.57, 407.71, 414.32, 413.97, 414.86, 417.13, 421.69, 411.62, 414.06, 416.44, 416.83, 417.01, 420.62, 409.55, 410.44, 413.75, 413.31, 418.09, 418.04, 416.39, 417.18, 417.94, 426.76, 424.23, 416.52, 414.82, 416.73, 417.96, 420.87, 420.9, 421.44, 424.03, 423.41, 422.75, 420.35, 419.41, 421.56, 422.48, 425.19, 423.73, 424.28, 429.71, 430.57, 427.4, 428.59, 435.51, 441.39, 449.43, 445.74, 450.28, 458.56, 461.43, 466.09, 444.69, 449.01, 455.1, 448.32, 451.88, 444.67, 450.3, 446.72, 447.98, 459.6, 458.54, 458.55, 460.48, 450.89, 452.73, 454.77, 455.67, 455.67, 457.57, 454.16, 453.78, 454.62, 438.71, 442.68, 443.19, 439.32, 444.15, 445.98, 449.6, 453.38, 473.46, 530.04, 526.23, 533.86, 531.39, 536.92, 537.97, 569.19, 572.73, 574.98, 585.54, 576.6, 581.64, 574.63, 577.47, 606.73, 672.78, 704.38, 685.56, 694.47, 766.31, 748.91, 756.23, 763.78, 737.23, 666.65, 596.12, 623.98, 665.3, 665.12, 629.37, 655.27, 647.0, 639.89, 673.34, 676.3, 703.7, 658.66, 683.66, 670.63, 677.33, 640.56, 666.52, 650.96, 649.36, 647.66, 664.55, 654.47, 658.08, 663.25, 660.77, 679.46, 673.11, 672.86, 665.68, 665.01, 650.62, 655.56, 661.28, 654.1, 651.78, 654.35, 655.03, 656.99, 655.05, 624.68, 606.27, 547.47, 566.36, 578.29, 575.04, 587.78, 592.69, 591.05, 587.8, 592.1, 589.12, 587.56, 585.59, 570.47, 567.24, 577.44, 573.22, 574.32, 575.63, 581.7, 581.31, 586.75, 583.41, 580.18, 577.76, 579.65, 569.95, 573.91, 574.11, 577.5, 575.47, 572.3, 575.54, 598.21, 608.63, 606.59, 610.44, 614.54, 626.32, 622.86, 623.51, 606.72, 608.24, 609.24, 610.68, 607.15, 606.97, 605.98, 609.87, 609.23, 608.31, 597.15, 596.3, 602.84, 602.63, 600.83, 608.04, 606.17, 604.73, 605.69, 609.74, 613.98, 610.89, 612.13, 610.2, 612.51, 613.02, 617.12, 619.11, 616.75, 618.99, 641.07, 636.19, 636.79, 640.38, 638.65, 641.63, 639.19, 637.96, 630.52, 630.86, 632.83, 657.29, 657.07, 653.76, 657.59, 678.3, 688.31, 689.65, 714.48, 701.86, 700.97, 729.79, 740.83, 688.7, 703.24, 703.42, 711.52, 703.13, 709.85, 723.27, 715.53, 716.41, 705.05, 702.03, 705.02, 711.62, 744.2, 740.98, 751.59, 751.62, 731.03, 739.25, 751.35, 744.59, 740.29, 741.65, 735.38, 732.03, 735.81, 735.6, 745.69, 756.77, 777.94, 771.15, 773.87, 758.7, 764.22, 768.13, 770.81, 772.79, 774.65, 769.73, 780.09, 780.56, 781.48, 778.09, 784.91, 790.83, 790.53, 792.71, 800.88, 834.28, 864.54, 921.98, 898.82, 896.18, 907.61, 933.2, 975.92, 973.5, 961.24, 963.74, 998.33, 1021.75, 1043.84, 1154.73, 1013.38, 902.2, 908.59, 911.2, 902.83, 907.68, 777.76, 804.83, 823.98, 818.41, 821.8, 831.53, 907.94, 886.62, 899.07, 895.03, 921.79, 924.67, 921.01, 892.69, 901.54, 917.59, 919.75, 921.59, 919.5, 920.38, 970.4, 989.02, 1011.8, 1029.91, 1042.9, 1027.34, 1038.15, 1061.35, 1063.07, 994.38, 988.67, 1004.45, 999.18, 990.64, 1004.55, 1007.48, 1027.44, 1046.21, 1054.42, 1047.87, 1079.98, 1115.3, 1117.44, 1166.72, 1173.68, 1143.84, 1165.2, 1179.97, 1179.97, 1222.5, 1251.01, 1274.99, 1255.15, 1267.12, 1272.83, 1223.54, 1150.0, 1188.49, 1116.72, 1175.83, 1221.38, 1231.92, 1240.0, 1249.61, 1187.81, 1100.23, 973.82, 1036.74, 1054.23, 1120.54, 1049.14, 1038.59, 937.52, 972.78, 966.73, 1045.77, 1047.15, 1039.97, 1026.43, 1071.79, 1080.5, 1102.17, 1143.81, 1133.25, 1124.78, 1182.68, 1176.9, 1175.95, 1187.87, 1187.13, 1205.01, 1200.37, 1169.28, 1167.54, 1172.52, 1182.94, 1193.91, 1211.67, 1210.29, 1229.08, 1222.05, 1231.71, 1207.21, 1250.15, 1265.49, 1281.08, 1317.73, 1316.48, 1321.79, 1347.89, 1421.6, 1452.82, 1490.09, 1537.67, 1555.45, 1578.8, 1596.71, 1723.35, 1755.36, 1787.13, 1848.57, 1724.24, 1804.91, 1808.91, 1738.43, 1734.45, 1839.09, 1888.65, 1987.71, 2084.73, 2041.2, 2173.4, 2320.42, 2443.64, 2304.98, 2202.42, 2038.87, 2155.8, 2255.61, 2175.47, 2286.41, 2407.88, 2488.55, 2515.35, 2511.81, 2686.81, 2863.2, 2732.16, 2805.62, 2823.81, 2947.71, 2958.11, 2659.63, 2717.02, 2506.37, 2464.58, 2518.56, 2655.88, 2548.29, 2589.6, 2721.79, 2689.1, 2705.41, 2744.91, 2608.72, 2589.41, 2478.45, 2552.45, 2574.79, 2539.32, 2480.84, 2434.55, 2506.47, 2564.06, 2601.64, 2601.99, 2608.56, 2518.66, 2571.34, 2518.44, 2372.56, 2337.79, 2398.84, 2357.9, 2233.34, 1998.86, 1929.82, 2228.41, 2318.88, 2273.43, 2817.6, 2667.76, 2810.12, 2730.4, 2754.86, 2576.48, 2529.45, 2671.78, 2809.01, 2726.45, 2757.18, 2875.34, 2718.26, 2710.67, 2804.73, 2895.89, 3252.91, 3213.94, 3378.94, 3419.94, 3342.47, 3381.28, 3650.62, 3884.71, 4073.26, 4325.13, 4181.93, 4376.63, 4331.69, 4160.62, 4193.7, 4087.66, 4001.74, 4100.52, 4151.52, 4334.68, 4371.6, 4352.4, 4382.88, 4382.66, 4579.02, 4565.3, 4703.39, 4892.01, 4578.77, 4582.96, 4236.31, 4376.53, 4597.12, 4599.88, 4228.75, 4226.06, 4122.94, 4161.27, 4130.81, 3882.59, 3154.95, 3637.52, 3625.04, 3582.88, 4065.2, 3924.97, 3905.95, 3631.04, 3630.7, 3792.4, 3682.84, 3926.07, 3892.35, 4200.67, 4174.73, 4163.07, 4338.71, 4403.74, 4409.32, 4317.48, 4229.36, 4328.41, 4370.81, 4426.89, 4610.48, 4772.02, 4781.99, 4826.48, 5446.91, 5647.21, 5831.79, 5678.19, 5725.59, 5605.51, 5590.69, 5708.52, 6011.45, 6031.6, 6008.42, 5930.32, 5526.64, 5750.8, 5904.83, 5780.9, 5753.09, 6153.85, 6130.53, 6468.4, 6767.31, 7078.5, 7207.76, 7379.95, 7407.41, 7022.76, 7144.38, 7459.69, 7143.58, 6618.14, 6357.6, 5950.07, 6559.49, 6635.75, 7315.54, 7871.69, 7708.99, 7790.15, 8036.49, 8200.64, 8071.26, 8253.55, 8038.77, 8253.69, 8790.92, 9330.55, 9818.35, 10058.8, 9888.61, 10233.6, 10975.6, 11074.6, 11323.2, 11657.2, 11916.7, 14291.5, 17899.7, 16569.4, 15178.2, 15455.4, 16936.8, 17415.4, 16408.2, 16564.0, 17706.9, 19497.4, 19140.8, 19114.2, 17776.7, 16624.6, 15802.9, 13831.8, 14699.2, 13925.8, 14026.6, 16099.8, 15838.5, 14606.5, 14656.2, 12952.2, 14156.4, 13657.2, 14982.1, 15201.0, 15599.2, 17429.5, 17527.0, 16477.6, 15170.1, 14595.4, 14973.3, 13405.8, 13980.6, 14360.2, 13772.0, 13819.8, 11490.5, 11188.6, 11474.9, 11607.4, 12899.2, 11600.1, 10931.4, 10868.4, 11359.4, 11259.4, 11171.4, 11440.7, 11786.3, 11296.4, 10106.3, 10221.1, 9170.54, 8830.75, 9174.91, 8277.01, 6955.27]\n",
      "[[  134.21   144.54   139.     116.99   105.21]\n",
      " [  144.54   139.     116.99   105.21    97.75]\n",
      " [  139.     116.99   105.21    97.75   112.5 ]\n",
      " ...\n",
      " [11296.4  10106.3  10221.1   9170.54  8830.75]\n",
      " [10106.3  10221.1   9170.54  8830.75  9174.91]\n",
      " [10221.1   9170.54  8830.75  9174.91  8277.01]]\n"
     ]
    }
   ],
   "source": [
    "# Trying to convert the input data, which starts off as dataframeX, must take 5 days and then transpose it\n",
    "# and then convert it into a numpy array\n",
    "\n",
    "rawdata = pd.read_csv('data/bitcoin.csv',usecols=[8])\n",
    "days = 5\n",
    "print(rawdata.shape)\n",
    "\n",
    "X = []\n",
    "Y = rawdata.tail(rawdata.shape[0] - days).as_matrix().transpose().tolist()[0]\n",
    "\n",
    "for i in range(rawdata.shape[0]-days):\n",
    "    X.append(rawdata.head(days + i).tail(days).as_matrix().transpose().tolist()[0])\n",
    "\n",
    "X = np.array(X)\n",
    "\n",
    "print(Y)\n",
    "print(X)"
   ]
  },
  {
   "cell_type": "code",
   "execution_count": 5,
   "metadata": {
    "scrolled": true
   },
   "outputs": [
    {
     "data": {
      "image/png": "[encoded data removed]",
      "text/plain": [
       "<matplotlib.figure.Figure at 0x7f0b6c76e320>"
      ]
     },
     "metadata": {},
     "output_type": "display_data"
    }
   ],
   "source": [
    "sns.lmplot('index','close', data=rawdata.reset_index(),fit_reg=False)\n",
    "plt.show()"
   ]
  },
  {
   "cell_type": "code",
   "execution_count": 35,
   "metadata": {
    "scrolled": true
   },
   "outputs": [
    {
     "name": "stderr",
     "output_type": "stream",
     "text": [
      "/usr/local/lib64/python3.6/site-packages/keras/models.py:942: UserWarning: The `nb_epoch` argument in `fit` has been renamed `epochs`.\n",
      "  warnings.warn('The `nb_epoch` argument in `fit` '\n"
     ]
    },
    {
     "name": "stdout",
     "output_type": "stream",
     "text": [
      "Epoch 1/3\n",
      "1740/1740 [==============================] - 2s 897us/step - loss: 4.4720 - mean_squared_logarithmic_error: 4.4720\n",
      "Epoch 2/3\n",
      "1740/1740 [==============================] - 0s 40us/step - loss: 0.0072 - mean_squared_logarithmic_error: 0.0072\n",
      "Epoch 3/3\n",
      "1740/1740 [==============================] - 0s 37us/step - loss: 0.0071 - mean_squared_logarithmic_error: 0.0071\n"
     ]
    }
   ],
   "source": [
    "model = Sequential()\n",
    "model.add(Dense(1,input_shape=(5,)))\n",
    "model.add(Activation('relu'))\n",
    "\n",
    "sgd = SGD(0.02)\n",
    "\n",
    "model.compile(loss='msle',optimizer=sgd,\n",
    "             metrics=['msle'])\n",
    "\n",
    "H = model.fit(X,Y,nb_epoch=3)"
   ]
  },
  {
   "cell_type": "code",
   "execution_count": 36,
   "metadata": {},
   "outputs": [
    {
     "name": "stdout",
     "output_type": "stream",
     "text": [
      "[[665.58]\n",
      " [682.21]\n",
      " [761.98]\n",
      " [735.07]\n",
      " [727.83]\n",
      " [745.05]\n",
      " [756.13]]\n"
     ]
    },
    {
     "ename": "ValueError",
     "evalue": "Error when checking : expected dense_2_input to have shape (5,) but got array with shape (1,)",
     "output_type": "error",
     "traceback": [
      "\u001b[0;31m---------------------------------------------------------------------------\u001b[0m",
      "\u001b[0;31mValueError\u001b[0m                                Traceback (most recent call last)",
      "\u001b[0;32m<ipython-input-36-edff6485bc70>\u001b[0m in \u001b[0;36m<module>\u001b[0;34m()\u001b[0m\n\u001b[1;32m      1\u001b[0m \u001b[0mXVal\u001b[0m \u001b[0;34m=\u001b[0m \u001b[0mpd\u001b[0m\u001b[0;34m.\u001b[0m\u001b[0mread_csv\u001b[0m\u001b[0;34m(\u001b[0m\u001b[0;34m'data/trainsetX.csv'\u001b[0m\u001b[0;34m,\u001b[0m\u001b[0musecols\u001b[0m\u001b[0;34m=\u001b[0m\u001b[0;34m[\u001b[0m\u001b[0;36m8\u001b[0m\u001b[0;34m]\u001b[0m\u001b[0;34m)\u001b[0m\u001b[0;34m.\u001b[0m\u001b[0mas_matrix\u001b[0m\u001b[0;34m(\u001b[0m\u001b[0;34m)\u001b[0m\u001b[0;34m\u001b[0m\u001b[0m\n\u001b[1;32m      2\u001b[0m \u001b[0mprint\u001b[0m\u001b[0;34m(\u001b[0m\u001b[0mXVal\u001b[0m\u001b[0;34m)\u001b[0m\u001b[0;34m\u001b[0m\u001b[0m\n\u001b[0;32m----> 3\u001b[0;31m \u001b[0mmodel\u001b[0m\u001b[0;34m.\u001b[0m\u001b[0mpredict\u001b[0m\u001b[0;34m(\u001b[0m\u001b[0mXVal\u001b[0m\u001b[0;34m)\u001b[0m\u001b[0;34m\u001b[0m\u001b[0m\n\u001b[0m",
      "\u001b[0;32m/usr/local/lib64/python3.6/site-packages/keras/models.py\u001b[0m in \u001b[0;36mpredict\u001b[0;34m(self, x, batch_size, verbose, steps)\u001b[0m\n\u001b[1;32m   1023\u001b[0m             \u001b[0mself\u001b[0m\u001b[0;34m.\u001b[0m\u001b[0mbuild\u001b[0m\u001b[0;34m(\u001b[0m\u001b[0;34m)\u001b[0m\u001b[0;34m\u001b[0m\u001b[0m\n\u001b[1;32m   1024\u001b[0m         return self.model.predict(x, batch_size=batch_size, verbose=verbose,\n\u001b[0;32m-> 1025\u001b[0;31m                                   steps=steps)\n\u001b[0m\u001b[1;32m   1026\u001b[0m \u001b[0;34m\u001b[0m\u001b[0m\n\u001b[1;32m   1027\u001b[0m     \u001b[0;32mdef\u001b[0m \u001b[0mpredict_on_batch\u001b[0m\u001b[0;34m(\u001b[0m\u001b[0mself\u001b[0m\u001b[0;34m,\u001b[0m \u001b[0mx\u001b[0m\u001b[0;34m)\u001b[0m\u001b[0;34m:\u001b[0m\u001b[0;34m\u001b[0m\u001b[0m\n",
      "\u001b[0;32m/usr/local/lib64/python3.6/site-packages/keras/engine/training.py\u001b[0m in \u001b[0;36mpredict\u001b[0;34m(self, x, batch_size, verbose, steps)\u001b[0m\n\u001b[1;32m   1822\u001b[0m         x = _standardize_input_data(x, self._feed_input_names,\n\u001b[1;32m   1823\u001b[0m                                     \u001b[0mself\u001b[0m\u001b[0;34m.\u001b[0m\u001b[0m_feed_input_shapes\u001b[0m\u001b[0;34m,\u001b[0m\u001b[0;34m\u001b[0m\u001b[0m\n\u001b[0;32m-> 1824\u001b[0;31m                                     check_batch_axis=False)\n\u001b[0m\u001b[1;32m   1825\u001b[0m         \u001b[0;32mif\u001b[0m \u001b[0mself\u001b[0m\u001b[0;34m.\u001b[0m\u001b[0mstateful\u001b[0m\u001b[0;34m:\u001b[0m\u001b[0;34m\u001b[0m\u001b[0m\n\u001b[1;32m   1826\u001b[0m             \u001b[0;32mif\u001b[0m \u001b[0mx\u001b[0m\u001b[0;34m[\u001b[0m\u001b[0;36m0\u001b[0m\u001b[0;34m]\u001b[0m\u001b[0;34m.\u001b[0m\u001b[0mshape\u001b[0m\u001b[0;34m[\u001b[0m\u001b[0;36m0\u001b[0m\u001b[0;34m]\u001b[0m \u001b[0;34m>\u001b[0m \u001b[0mbatch_size\u001b[0m \u001b[0;32mand\u001b[0m \u001b[0mx\u001b[0m\u001b[0;34m[\u001b[0m\u001b[0;36m0\u001b[0m\u001b[0;34m]\u001b[0m\u001b[0;34m.\u001b[0m\u001b[0mshape\u001b[0m\u001b[0;34m[\u001b[0m\u001b[0;36m0\u001b[0m\u001b[0;34m]\u001b[0m \u001b[0;34m%\u001b[0m \u001b[0mbatch_size\u001b[0m \u001b[0;34m!=\u001b[0m \u001b[0;36m0\u001b[0m\u001b[0;34m:\u001b[0m\u001b[0;34m\u001b[0m\u001b[0m\n",
      "\u001b[0;32m/usr/local/lib64/python3.6/site-packages/keras/engine/training.py\u001b[0m in \u001b[0;36m_standardize_input_data\u001b[0;34m(data, names, shapes, check_batch_axis, exception_prefix)\u001b[0m\n\u001b[1;32m    121\u001b[0m                             \u001b[0;34m': expected '\u001b[0m \u001b[0;34m+\u001b[0m \u001b[0mnames\u001b[0m\u001b[0;34m[\u001b[0m\u001b[0mi\u001b[0m\u001b[0;34m]\u001b[0m \u001b[0;34m+\u001b[0m \u001b[0;34m' to have shape '\u001b[0m \u001b[0;34m+\u001b[0m\u001b[0;34m\u001b[0m\u001b[0m\n\u001b[1;32m    122\u001b[0m                             \u001b[0mstr\u001b[0m\u001b[0;34m(\u001b[0m\u001b[0mshape\u001b[0m\u001b[0;34m)\u001b[0m \u001b[0;34m+\u001b[0m \u001b[0;34m' but got array with shape '\u001b[0m \u001b[0;34m+\u001b[0m\u001b[0;34m\u001b[0m\u001b[0m\n\u001b[0;32m--> 123\u001b[0;31m                             str(data_shape))\n\u001b[0m\u001b[1;32m    124\u001b[0m     \u001b[0;32mreturn\u001b[0m \u001b[0mdata\u001b[0m\u001b[0;34m\u001b[0m\u001b[0m\n\u001b[1;32m    125\u001b[0m \u001b[0;34m\u001b[0m\u001b[0m\n",
      "\u001b[0;31mValueError\u001b[0m: Error when checking : expected dense_2_input to have shape (5,) but got array with shape (1,)"
     ]
    }
   ],
   "source": [
    "XVal = pd.read_csv('data/trainsetX.csv',usecols=[8]).as_matrix()\n",
    "print(XVal)\n",
    "model.predict(XVal)\n"
   ]
  },
  {
   "cell_type": "code",
   "execution_count": null,
   "metadata": {
    "collapsed": true
   },
   "outputs": [],
   "source": []
  }
 ],
 "metadata": {
  "kernelspec": {
   "display_name": "Python 3",
   "language": "python",
   "name": "python3"
  },
  "language_info": {
   "codemirror_mode": {
    "name": "ipython",
    "version": 3
   },
   "file_extension": ".py",
   "mimetype": "text/x-python",
   "name": "python",
   "nbconvert_exporter": "python",
   "pygments_lexer": "ipython3",
   "version": "3.6.4"
  }
 },
 "nbformat": 4,
 "nbformat_minor": 2
}
