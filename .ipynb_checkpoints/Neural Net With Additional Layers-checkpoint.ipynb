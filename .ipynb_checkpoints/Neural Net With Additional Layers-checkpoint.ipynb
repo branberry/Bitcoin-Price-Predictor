{
 "cells": [
  {
   "cell_type": "code",
   "execution_count": 1,
   "metadata": {},
   "outputs": [
    {
     "name": "stderr",
     "output_type": "stream",
     "text": [
      "Using TensorFlow backend.\n"
     ]
    }
   ],
   "source": [
    "from keras.models import Sequential\n",
    "from keras.layers.core import Dense, Activation\n",
    "from keras.layers import Dropout, Flatten\n",
    "from keras.wrappers.scikit_learn import KerasRegressor\n",
    "from keras.optimizers import SGD\n",
    "import numpy as np\n",
    "import pandas as pd\n",
    "import seaborn as sns\n",
    "import matplotlib.pyplot as plt"
   ]
  },
  {
   "cell_type": "code",
   "execution_count": 2,
   "metadata": {},
   "outputs": [],
   "source": [
    "# Trying to convert the input data, which starts off as dataframeX, must take 5 days and then transpose it\n",
    "# and then convert it into a numpy array\n",
    "\n",
    "rawdata = pd.read_csv('data/bitcoin.csv',usecols=[8])\n",
    "days = 5\n",
    "predict_delta = 7\n",
    "\n",
    "X = []\n",
    "Y = rawdata.tail(rawdata.shape[0] - predict_delta).as_matrix().tolist()\n",
    "\n",
    "for i in range(rawdata.shape[0]-predict_delta):\n",
    "    X.append(rawdata.head(days + i).tail(days).as_matrix().transpose().tolist()[0])\n",
    "\n",
    "X = np.array(X)\n",
    "Y = np.array(Y)"
   ]
  },
  {
   "cell_type": "code",
   "execution_count": 7,
   "metadata": {
    "scrolled": true
   },
   "outputs": [
    {
     "name": "stdout",
     "output_type": "stream",
     "text": [
      "Epoch 1/9\n",
      "1738/1738 [==============================] - 0s 72us/step - loss: 79.5322 - acc: 0.0000e+00\n",
      "Epoch 2/9\n",
      "1738/1738 [==============================] - 0s 42us/step - loss: 51.6850 - acc: 0.0000e+00\n",
      "Epoch 3/9\n",
      "1738/1738 [==============================] - 0s 46us/step - loss: 24.7453 - acc: 0.0000e+00\n",
      "Epoch 4/9\n",
      "1738/1738 [==============================] - 0s 40us/step - loss: 7.3774 - acc: 0.0012\n",
      "Epoch 5/9\n",
      "1738/1738 [==============================] - 0s 41us/step - loss: 6.3590 - acc: 5.7537e-04\n",
      "Epoch 6/9\n",
      "1738/1738 [==============================] - 0s 41us/step - loss: 6.3314 - acc: 0.0017\n",
      "Epoch 7/9\n",
      "1738/1738 [==============================] - 0s 43us/step - loss: 6.3218 - acc: 5.7537e-04\n",
      "Epoch 8/9\n",
      "1738/1738 [==============================] - 0s 42us/step - loss: 6.2838 - acc: 0.0012\n",
      "Epoch 9/9\n",
      "1738/1738 [==============================] - 0s 38us/step - loss: 6.2853 - acc: 5.7537e-04\n"
     ]
    }
   ],
   "source": [
    "model = Sequential()\n",
    "model.add(Dense(1,input_shape=(5,),kernel_initializer='normal'))\n",
    "model.add(Activation('relu'))\n",
    "model.add(Dropout(2.7))\n",
    "\n",
    "\n",
    "model.compile(loss='mean_absolute_percentage_error',optimizer='rmsprop',\n",
    "             metrics=['accuracy'])\n",
    "\n",
    "H = model.fit(X,Y,epochs=9)"
   ]
  },
  {
   "cell_type": "code",
   "execution_count": 8,
   "metadata": {},
   "outputs": [
    {
     "name": "stdout",
     "output_type": "stream",
     "text": [
      "[[ 8070.8   8891.21  8516.24  9477.84 10016.49]]\n"
     ]
    },
    {
     "data": {
      "text/plain": [
       "array([[8898.107]], dtype=float32)"
      ]
     },
     "execution_count": 8,
     "metadata": {},
     "output_type": "execute_result"
    }
   ],
   "source": [
    "# Feburary 11th through Feburary 15th\n",
    "XVal = np.array([[8070.8, 8891.21, 8516.24, 9477.84, 10016.49]])\n",
    "print(XVal)\n",
    "# Predicing Feburary 22nd closing price of 9830.43\n",
    "model.predict(XVal)\n"
   ]
  },
  {
   "cell_type": "code",
   "execution_count": 5,
   "metadata": {},
   "outputs": [
    {
     "name": "stdout",
     "output_type": "stream",
     "text": [
      "_________________________________________________________________\n",
      "Layer (type)                 Output Shape              Param #   \n",
      "=================================================================\n",
      "dense_1 (Dense)              (None, 1)                 6         \n",
      "_________________________________________________________________\n",
      "activation_1 (Activation)    (None, 1)                 0         \n",
      "_________________________________________________________________\n",
      "dropout_1 (Dropout)          (None, 1)                 0         \n",
      "=================================================================\n",
      "Total params: 6\n",
      "Trainable params: 6\n",
      "Non-trainable params: 0\n",
      "_________________________________________________________________\n"
     ]
    }
   ],
   "source": [
    "model.summary()"
   ]
  },
  {
   "cell_type": "code",
   "execution_count": null,
   "metadata": {},
   "outputs": [],
   "source": []
  }
 ],
 "metadata": {
  "kernelspec": {
   "display_name": "Python 3",
   "language": "python",
   "name": "python3"
  },
  "language_info": {
   "codemirror_mode": {
    "name": "ipython",
    "version": 3
   },
   "file_extension": ".py",
   "mimetype": "text/x-python",
   "name": "python",
   "nbconvert_exporter": "python",
   "pygments_lexer": "ipython3",
   "version": "3.6.4"
  }
 },
 "nbformat": 4,
 "nbformat_minor": 2
}
