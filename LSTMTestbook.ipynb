{
 "cells": [
  {
   "cell_type": "code",
   "execution_count": 2,
   "metadata": {},
   "outputs": [
    {
     "name": "stderr",
     "output_type": "stream",
     "text": [
      "Using TensorFlow backend.\n"
     ]
    }
   ],
   "source": [
    "from keras.models import Sequential\n",
    "from keras.layers.core import Dense, Activation\n",
    "from keras.wrappers.scikit_learn import KerasRegressor\n",
    "from keras.optimizers import SGD\n",
    "import numpy as np\n",
    "import pandas as pd\n",
    "import seaborn as sns\n",
    "import matplotlib.pyplot as plt"
   ]
  },
  {
   "cell_type": "code",
   "execution_count": 3,
   "metadata": {},
   "outputs": [],
   "source": [
    "dataframeX = pd.read_csv('data/smallset.csv',usecols=[3,5,6,7,8])\n",
    "dataframeY = pd.read_csv('data/smallsetY.csv',usecols=[8])\n",
    "\n",
    "X = dataframeX.as_matrix()\n",
    "Y = dataframeY.as_matrix()"
   ]
  },
  {
   "cell_type": "code",
   "execution_count": 3,
   "metadata": {},
   "outputs": [
    {
     "data": {
      "image/png": "[encoded data removed]",
      "text/plain": [
       "<matplotlib.figure.Figure at 0x244f885c208>"
      ]
     },
     "metadata": {},
     "output_type": "display_data"
    }
   ],
   "source": [
    "# Charting data\n",
    "sns.lmplot('index','close', data=dataframeX.reset_index(),fit_reg=False)\n",
    "plt.show()"
   ]
  },
  {
   "cell_type": "code",
   "execution_count": 6,
   "metadata": {},
   "outputs": [],
   "source": [
    "columns = [dataframeX.shift(i) for i in range(1,2)]\n",
    "columns.append(dataframeX)\n",
    "dataframeX = pd.concat(columns,axis=1)\n",
    "dataframeX.fillna(0,inplace=True)"
   ]
  },
  {
   "cell_type": "code",
   "execution_count": 7,
   "metadata": {},
   "outputs": [
    {
     "name": "stdout",
     "output_type": "stream",
     "text": [
      "           date    open    high     low   close        date    open    high  \\\n",
      "0             0    0.00    0.00    0.00    0.00  2013-04-28  135.30  135.98   \n",
      "1    2013-04-28  135.30  135.98  132.10  134.21  2013-04-29  134.44  147.49   \n",
      "2    2013-04-29  134.44  147.49  134.00  144.54  2013-04-30  144.00  146.93   \n",
      "3    2013-04-30  144.00  146.93  134.05  139.00  2013-05-01  139.00  139.89   \n",
      "4    2013-05-01  139.00  139.89  107.72  116.99  2013-05-02  116.38  125.60   \n",
      "5    2013-05-02  116.38  125.60   92.28  105.21  2013-05-03  106.25  108.13   \n",
      "6    2013-05-03  106.25  108.13   79.10   97.75  2013-05-04   98.10  115.00   \n",
      "7    2013-05-04   98.10  115.00   92.50  112.50  2013-05-05  112.90  118.80   \n",
      "8    2013-05-05  112.90  118.80  107.14  115.91  2013-05-06  115.98  124.66   \n",
      "9    2013-05-06  115.98  124.66  106.64  112.30  2013-05-07  112.25  113.44   \n",
      "10   2013-05-07  112.25  113.44   97.70  111.50  2013-05-08  109.60  115.78   \n",
      "11   2013-05-08  109.60  115.78  109.60  113.57  2013-05-09  113.20  113.46   \n",
      "12   2013-05-09  113.20  113.46  109.26  112.67  2013-05-10  112.80  122.00   \n",
      "13   2013-05-10  112.80  122.00  111.55  117.20  2013-05-11  117.70  118.68   \n",
      "14   2013-05-11  117.70  118.68  113.01  115.24  2013-05-12  115.64  117.45   \n",
      "15   2013-05-12  115.64  117.45  113.44  115.00  2013-05-13  114.82  118.70   \n",
      "16   2013-05-13  114.82  118.70  114.50  117.98  2013-05-14  117.98  119.80   \n",
      "17   2013-05-14  117.98  119.80  110.25  111.50  2013-05-15  111.40  115.81   \n",
      "18   2013-05-15  111.40  115.81  103.50  114.22  2013-05-16  114.22  118.76   \n",
      "19   2013-05-16  114.22  118.76  112.20  118.76  2013-05-17  118.21  125.30   \n",
      "20   2013-05-17  118.21  125.30  116.57  123.02  2013-05-18  123.50  125.25   \n",
      "21   2013-05-18  123.50  125.25  122.30  123.50  2013-05-19  123.21  124.50   \n",
      "22   2013-05-19  123.21  124.50  119.57  121.99  2013-05-20  122.50  123.62   \n",
      "23   2013-05-20  122.50  123.62  120.12  122.00  2013-05-21  122.02  123.00   \n",
      "24   2013-05-21  122.02  123.00  121.21  122.88  2013-05-22  122.89  124.00   \n",
      "25   2013-05-22  122.89  124.00  122.00  123.89  2013-05-23  123.80  126.93   \n",
      "26   2013-05-23  123.80  126.93  123.10  126.70  2013-05-24  126.30  133.85   \n",
      "27   2013-05-24  126.30  133.85  125.72  133.20  2013-05-25  133.10  133.22   \n",
      "28   2013-05-25  133.10  133.22  128.90  131.98  2013-05-26  131.99  136.00   \n",
      "29   2013-05-26  131.99  136.00  130.62  133.48  2013-05-27  133.50  135.47   \n",
      "..          ...     ...     ...     ...     ...         ...     ...     ...   \n",
      "119  2013-08-24  118.51  121.39  118.02  120.05  2013-08-25  119.60  122.99   \n",
      "120  2013-08-25  119.60  122.99  119.17  122.11  2013-08-26  122.11  122.75   \n",
      "121  2013-08-26  122.11  122.75  119.93  120.06  2013-08-27  120.07  127.24   \n",
      "122  2013-08-27  120.07  127.24  120.07  126.50  2013-08-28  126.48  127.32   \n",
      "123  2013-08-28  126.48  127.32  122.62  122.62  2013-08-29  122.62  123.70   \n",
      "124  2013-08-29  122.62  123.70  122.21  122.39  2013-08-30  122.35  135.75   \n",
      "125  2013-08-30  122.35  135.75  120.99  133.49  2013-08-31  133.09  140.89   \n",
      "126  2013-08-31  133.09  140.89  132.72  135.35  2013-09-01  135.14  145.81   \n",
      "127  2013-09-01  135.14  145.81  134.81  138.34  2013-09-02  138.63  146.50   \n",
      "128  2013-09-02  138.63  146.50  134.89  135.85  2013-09-03  135.61  138.34   \n",
      "129  2013-09-03  135.61  138.34  133.00  136.77  2013-09-04  136.53  144.50   \n",
      "130  2013-09-04  136.53  144.50  123.61  126.74  2013-09-05  126.76  131.44   \n",
      "131  2013-09-05  126.76  131.44  121.83  126.43  2013-09-06  126.49  127.34   \n",
      "132  2013-09-06  126.49  127.34  119.15  119.15  2013-09-07  118.89  125.94   \n",
      "133  2013-09-07  118.89  125.94  118.46  124.15  2013-09-08  124.13  124.72   \n",
      "134  2013-09-08  124.13  124.72  120.49  121.66  2013-09-09  121.86  129.06   \n",
      "135  2013-09-09  121.86  129.06  119.75  127.11  2013-09-10  127.27  129.74   \n",
      "136  2013-09-10  127.27  129.74  125.90  125.91  2013-09-11  125.89  137.83   \n",
      "137  2013-09-11  125.89  137.83  123.27  135.25  2013-09-12  135.55  136.08   \n",
      "138  2013-09-12  135.55  136.08  131.81  133.13  2013-09-13  132.83  137.58   \n",
      "139  2013-09-13  132.83  137.58  132.27  134.98  2013-09-14  135.01  135.85   \n",
      "140  2013-09-14  135.01  135.85  128.87  129.22  2013-09-15  129.40  131.44   \n",
      "141  2013-09-15  129.40  131.44  128.26  130.37  2013-09-16  130.86  132.72   \n",
      "142  2013-09-16  130.86  132.72  129.77  131.72  2013-09-17  131.59  132.76   \n",
      "143  2013-09-17  131.59  132.76  124.89  131.66  2013-09-18  131.71  133.20   \n",
      "144  2013-09-18  131.71  133.20  130.54  131.47  2013-09-19  131.37  131.77   \n",
      "145  2013-09-19  131.37  131.77  128.45  129.65  2013-09-20  129.70  135.62   \n",
      "146  2013-09-20  129.70  135.62  126.68  127.04  2013-09-21  126.95  128.61   \n",
      "147  2013-09-21  126.95  128.61  126.24  127.43  2013-09-22  127.87  133.94   \n",
      "148  2013-09-22  127.87  133.94  126.59  129.12  2013-09-23  128.98  132.72   \n",
      "\n",
      "        low   close  \n",
      "0    132.10  134.21  \n",
      "1    134.00  144.54  \n",
      "2    134.05  139.00  \n",
      "3    107.72  116.99  \n",
      "4     92.28  105.21  \n",
      "5     79.10   97.75  \n",
      "6     92.50  112.50  \n",
      "7    107.14  115.91  \n",
      "8    106.64  112.30  \n",
      "9     97.70  111.50  \n",
      "10   109.60  113.57  \n",
      "11   109.26  112.67  \n",
      "12   111.55  117.20  \n",
      "13   113.01  115.24  \n",
      "14   113.44  115.00  \n",
      "15   114.50  117.98  \n",
      "16   110.25  111.50  \n",
      "17   103.50  114.22  \n",
      "18   112.20  118.76  \n",
      "19   116.57  123.02  \n",
      "20   122.30  123.50  \n",
      "21   119.57  121.99  \n",
      "22   120.12  122.00  \n",
      "23   121.21  122.88  \n",
      "24   122.00  123.89  \n",
      "25   123.10  126.70  \n",
      "26   125.72  133.20  \n",
      "27   128.90  131.98  \n",
      "28   130.62  133.48  \n",
      "29   124.70  129.75  \n",
      "..      ...     ...  \n",
      "119  119.17  122.11  \n",
      "120  119.93  120.06  \n",
      "121  120.07  126.50  \n",
      "122  122.62  122.62  \n",
      "123  122.21  122.39  \n",
      "124  120.99  133.49  \n",
      "125  132.72  135.35  \n",
      "126  134.81  138.34  \n",
      "127  134.89  135.85  \n",
      "128  133.00  136.77  \n",
      "129  123.61  126.74  \n",
      "130  121.83  126.43  \n",
      "131  119.15  119.15  \n",
      "132  118.46  124.15  \n",
      "133  120.49  121.66  \n",
      "134  119.75  127.11  \n",
      "135  125.90  125.91  \n",
      "136  123.27  135.25  \n",
      "137  131.81  133.13  \n",
      "138  132.27  134.98  \n",
      "139  128.87  129.22  \n",
      "140  128.26  130.37  \n",
      "141  129.77  131.72  \n",
      "142  124.89  131.66  \n",
      "143  130.54  131.47  \n",
      "144  128.45  129.65  \n",
      "145  126.68  127.04  \n",
      "146  126.24  127.43  \n",
      "147  126.59  129.12  \n",
      "148  125.66  125.95  \n",
      "\n",
      "[149 rows x 10 columns]\n"
     ]
    }
   ],
   "source": [
    "print(dataframeX)"
   ]
  },
  {
   "cell_type": "code",
   "execution_count": null,
   "metadata": {},
   "outputs": [],
   "source": []
  }
 ],
 "metadata": {
  "kernelspec": {
   "display_name": "Python 3",
   "language": "python",
   "name": "python3"
  },
  "language_info": {
   "codemirror_mode": {
    "name": "ipython",
    "version": 3
   },
   "file_extension": ".py",
   "mimetype": "text/x-python",
   "name": "python",
   "nbconvert_exporter": "python",
   "pygments_lexer": "ipython3",
   "version": "3.6.4"
  }
 },
 "nbformat": 4,
 "nbformat_minor": 2
}
