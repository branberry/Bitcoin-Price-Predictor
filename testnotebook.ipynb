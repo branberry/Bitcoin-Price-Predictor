{
 "cells": [
  {
   "cell_type": "code",
   "execution_count": 1,
   "metadata": {},
   "outputs": [
    {
     "name": "stderr",
     "output_type": "stream",
     "text": [
      "Using TensorFlow backend.\n"
     ]
    }
   ],
   "source": [
    "from keras.models import Sequential\n",
    "from keras.layers.core import Dense, Activation\n",
    "from keras.wrappers.scikit_learn import KerasRegressor\n",
    "from keras.optimizers import SGD\n",
    "import numpy as np\n",
    "import pandas as pd\n",
    "import seaborn as sns\n",
    "import matplotlib.pyplot as plt"
   ]
  },
  {
   "cell_type": "code",
   "execution_count": 3,
   "metadata": {},
   "outputs": [
    {
     "name": "stdout",
     "output_type": "stream",
     "text": [
      "       open    high     low   close\n",
      "0    135.30  135.98  132.10  134.21\n",
      "1    134.44  147.49  134.00  144.54\n",
      "2    144.00  146.93  134.05  139.00\n",
      "3    139.00  139.89  107.72  116.99\n",
      "4    116.38  125.60   92.28  105.21\n",
      "5    106.25  108.13   79.10   97.75\n",
      "6     98.10  115.00   92.50  112.50\n",
      "7    112.90  118.80  107.14  115.91\n",
      "8    115.98  124.66  106.64  112.30\n",
      "9    112.25  113.44   97.70  111.50\n",
      "10   109.60  115.78  109.60  113.57\n",
      "11   113.20  113.46  109.26  112.67\n",
      "12   112.80  122.00  111.55  117.20\n",
      "13   117.70  118.68  113.01  115.24\n",
      "14   115.64  117.45  113.44  115.00\n",
      "15   114.82  118.70  114.50  117.98\n",
      "16   117.98  119.80  110.25  111.50\n",
      "17   111.40  115.81  103.50  114.22\n",
      "18   114.22  118.76  112.20  118.76\n",
      "19   118.21  125.30  116.57  123.02\n",
      "20   123.50  125.25  122.30  123.50\n",
      "21   123.21  124.50  119.57  121.99\n",
      "22   122.50  123.62  120.12  122.00\n",
      "23   122.02  123.00  121.21  122.88\n",
      "24   122.89  124.00  122.00  123.89\n",
      "25   123.80  126.93  123.10  126.70\n",
      "26   126.30  133.85  125.72  133.20\n",
      "27   133.10  133.22  128.90  131.98\n",
      "28   131.99  136.00  130.62  133.48\n",
      "29   133.50  135.47  124.70  129.75\n",
      "..      ...     ...     ...     ...\n",
      "119  119.60  122.99  119.17  122.11\n",
      "120  122.11  122.75  119.93  120.06\n",
      "121  120.07  127.24  120.07  126.50\n",
      "122  126.48  127.32  122.62  122.62\n",
      "123  122.62  123.70  122.21  122.39\n",
      "124  122.35  135.75  120.99  133.49\n",
      "125  133.09  140.89  132.72  135.35\n",
      "126  135.14  145.81  134.81  138.34\n",
      "127  138.63  146.50  134.89  135.85\n",
      "128  135.61  138.34  133.00  136.77\n",
      "129  136.53  144.50  123.61  126.74\n",
      "130  126.76  131.44  121.83  126.43\n",
      "131  126.49  127.34  119.15  119.15\n",
      "132  118.89  125.94  118.46  124.15\n",
      "133  124.13  124.72  120.49  121.66\n",
      "134  121.86  129.06  119.75  127.11\n",
      "135  127.27  129.74  125.90  125.91\n",
      "136  125.89  137.83  123.27  135.25\n",
      "137  135.55  136.08  131.81  133.13\n",
      "138  132.83  137.58  132.27  134.98\n",
      "139  135.01  135.85  128.87  129.22\n",
      "140  129.40  131.44  128.26  130.37\n",
      "141  130.86  132.72  129.77  131.72\n",
      "142  131.59  132.76  124.89  131.66\n",
      "143  131.71  133.20  130.54  131.47\n",
      "144  131.37  131.77  128.45  129.65\n",
      "145  129.70  135.62  126.68  127.04\n",
      "146  126.95  128.61  126.24  127.43\n",
      "147  127.87  133.94  126.59  129.12\n",
      "148  128.98  132.72  125.66  125.95\n",
      "\n",
      "[149 rows x 4 columns]\n"
     ]
    }
   ],
   "source": [
    "dataframeX = pd.read_csv('data/smallset.csv',usecols=[5,6,7,8])\n",
    "dataframeY = pd.read_csv('data/smallsetY.csv',usecols=[8])\n",
    "#print(dataframeX.index.values)\n",
    "print(dataframeX)\n",
    "X = dataframeX.as_matrix()\n",
    "Y = dataframeY.as_matrix()\n"
   ]
  },
  {
   "cell_type": "code",
   "execution_count": 10,
   "metadata": {
    "scrolled": true
   },
   "outputs": [
    {
     "data": {
      "image/png": "[encoded data removed]",
      "text/plain": [
       "<matplotlib.figure.Figure at 0x7fa2fa1f29b0>"
      ]
     },
     "metadata": {},
     "output_type": "display_data"
    }
   ],
   "source": [
    "sns.lmplot('index','close', data=dataframeX.reset_index(),fit_reg=False)\n",
    "plt.show()"
   ]
  },
  {
   "cell_type": "code",
   "execution_count": 19,
   "metadata": {
    "scrolled": true
   },
   "outputs": [
    {
     "name": "stderr",
     "output_type": "stream",
     "text": [
      "/usr/local/lib/python3.6/site-packages/keras/models.py:942: UserWarning: The `nb_epoch` argument in `fit` has been renamed `epochs`.\n",
      "  warnings.warn('The `nb_epoch` argument in `fit` '\n"
     ]
    },
    {
     "name": "stdout",
     "output_type": "stream",
     "text": [
      "Epoch 1/3\n",
      "149/149 [==============================] - 0s 2ms/step - loss: 12866.5677 - mean_squared_error: 12866.5677\n",
      "Epoch 2/3\n",
      "149/149 [==============================] - 0s 101us/step - loss: 12866.5679 - mean_squared_error: 12866.5679\n",
      "Epoch 3/3\n",
      "149/149 [==============================] - 0s 277us/step - loss: 12866.5679 - mean_squared_error: 12866.5679\n"
     ]
    }
   ],
   "source": [
    "model = Sequential()\n",
    "model.add(Dense(1,input_shape=(4,)))\n",
    "model.add(Activation('relu'))\n",
    "\n",
    "sgd = SGD(0.02)\n",
    "\n",
    "model.compile(loss='mse',optimizer=sgd,\n",
    "             metrics=['mse'])\n",
    "\n",
    "H = model.fit(X,Y,nb_epoch=3)"
   ]
  },
  {
   "cell_type": "code",
   "execution_count": 17,
   "metadata": {},
   "outputs": [
    {
     "data": {
      "text/plain": [
       "array([[0.],\n",
       "       [0.],\n",
       "       [0.],\n",
       "       [0.],\n",
       "       [0.],\n",
       "       [0.],\n",
       "       [0.]], dtype=float32)"
      ]
     },
     "execution_count": 17,
     "metadata": {},
     "output_type": "execute_result"
    }
   ],
   "source": [
    "XVal = pd.read_csv('data/trainsetX.csv',usecols=[5,6,7,8]).as_matrix()\n",
    "model.predict(XVal)\n"
   ]
  },
  {
   "cell_type": "code",
   "execution_count": null,
   "metadata": {
    "collapsed": true
   },
   "outputs": [],
   "source": []
  }
 ],
 "metadata": {
  "kernelspec": {
   "display_name": "Python 3",
   "language": "python",
   "name": "python3"
  },
  "language_info": {
   "codemirror_mode": {
    "name": "ipython",
    "version": 3
   },
   "file_extension": ".py",
   "mimetype": "text/x-python",
   "name": "python",
   "nbconvert_exporter": "python",
   "pygments_lexer": "ipython3",
   "version": "3.6.4"
  }
 },
 "nbformat": 4,
 "nbformat_minor": 2
}
