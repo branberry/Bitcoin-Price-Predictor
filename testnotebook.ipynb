{
 "cells": [
  {
   "cell_type": "code",
   "execution_count": 1,
   "metadata": {},
   "outputs": [
    {
     "name": "stderr",
     "output_type": "stream",
     "text": [
      "Using TensorFlow backend.\n"
     ]
    }
   ],
   "source": [
    "from keras.models import Sequential\n",
    "from keras.layers.core import Dense, Activation\n",
    "from keras.wrappers.scikit_learn import KerasRegressor\n",
    "from keras.optimizers import SGD\n",
    "import numpy as np\n",
    "import pandas as pd\n",
    "import seaborn as sns\n",
    "import matplotlib.pyplot as plt"
   ]
  },
  {
   "cell_type": "code",
   "execution_count": 9,
   "metadata": {},
   "outputs": [
    {
     "name": "stdout",
     "output_type": "stream",
     "text": [
      "1745\n"
     ]
    }
   ],
   "source": [
    "rawdata = pd.read_csv('data/bitcoin.csv',usecols=[8])\n",
    "\n",
    "print(rawdata.shape[0])\n",
    "X = rawdata.head(rawdata.shape[0] - 5)\n",
    "Y = rawdata.tail(rawdata.shape[0] - 5)"
   ]
  },
  {
   "cell_type": "code",
   "execution_count": 19,
   "metadata": {
    "scrolled": true
   },
   "outputs": [
    {
     "data": {
      "image/png": "[encoded data removed]",
      "text/plain": [
       "<matplotlib.figure.Figure at 0x7efda11a35c0>"
      ]
     },
     "metadata": {},
     "output_type": "display_data"
    }
   ],
   "source": [
    "sns.lmplot('index','close', data=rawdata.reset_index(),fit_reg=False)\n",
    "plt.show()"
   ]
  },
  {
   "cell_type": "code",
   "execution_count": 20,
   "metadata": {
    "scrolled": true
   },
   "outputs": [
    {
     "name": "stderr",
     "output_type": "stream",
     "text": [
      "/usr/local/lib/python3.6/site-packages/keras/models.py:942: UserWarning: The `nb_epoch` argument in `fit` has been renamed `epochs`.\n",
      "  warnings.warn('The `nb_epoch` argument in `fit` '\n"
     ]
    },
    {
     "name": "stdout",
     "output_type": "stream",
     "text": [
      "Epoch 1/3\n",
      "1740/1740 [==============================] - 0s 223us/step - loss: 0.0403 - mean_squared_logarithmic_error: 0.0403\n",
      "Epoch 2/3\n",
      "1740/1740 [==============================] - 0s 115us/step - loss: 0.0098 - mean_squared_logarithmic_error: 0.0098\n",
      "Epoch 3/3\n",
      "1740/1740 [==============================] - 0s 126us/step - loss: 0.0097 - mean_squared_logarithmic_error: 0.0097\n"
     ]
    }
   ],
   "source": [
    "model = Sequential()\n",
    "model.add(Dense(1,input_shape=(1,)))\n",
    "model.add(Activation('linear'))\n",
    "\n",
    "sgd = SGD(0.02)\n",
    "\n",
    "model.compile(loss='msle',optimizer=sgd,\n",
    "             metrics=['msle'])\n",
    "\n",
    "H = model.fit(X,Y,nb_epoch=3)"
   ]
  },
  {
   "cell_type": "code",
   "execution_count": 21,
   "metadata": {},
   "outputs": [
    {
     "data": {
      "text/plain": [
       "array([[673.921  ],\n",
       "       [690.75946],\n",
       "       [771.52893],\n",
       "       [744.2818 ],\n",
       "       [736.95105],\n",
       "       [754.3868 ],\n",
       "       [765.60565]], dtype=float32)"
      ]
     },
     "execution_count": 21,
     "metadata": {},
     "output_type": "execute_result"
    }
   ],
   "source": [
    "XVal = pd.read_csv('data/trainsetX.csv',usecols=[8]).as_matrix()\n",
    "model.predict(XVal)\n"
   ]
  },
  {
   "cell_type": "code",
   "execution_count": null,
   "metadata": {
    "collapsed": true
   },
   "outputs": [],
   "source": []
  }
 ],
 "metadata": {
  "kernelspec": {
   "display_name": "Python 3",
   "language": "python",
   "name": "python3"
  },
  "language_info": {
   "codemirror_mode": {
    "name": "ipython",
    "version": 3
   },
   "file_extension": ".py",
   "mimetype": "text/x-python",
   "name": "python",
   "nbconvert_exporter": "python",
   "pygments_lexer": "ipython3",
   "version": "3.6.4"
  }
 },
 "nbformat": 4,
 "nbformat_minor": 2
}
